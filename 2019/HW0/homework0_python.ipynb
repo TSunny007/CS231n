{
  "nbformat": 4,
  "nbformat_minor": 0,
  "metadata": {
    "colab": {
      "name": "homework0_python.ipynb",
      "version": "0.3.2",
      "provenance": [],
      "collapsed_sections": []
    },
    "kernelspec": {
      "name": "python3",
      "display_name": "Python 3"
    }
  },
  "cells": [
    {
      "cell_type": "markdown",
      "metadata": {
        "id": "0P-q6qgK9SK0",
        "colab_type": "text"
      },
      "source": [
        "# Homework 0: Python\n",
        "\n",
        "Welcome to the course! Throughout the semester, each student will learn deep learning algorithms that are widely employed in data science and the scientific community generally. The best way to understand these concepts is to implement them.\n",
        "\n",
        "This class cannot teach basic coding skills, therefore a strong python background is required.  This assignment is intended as a personal way to test each student's coding skills and the grade will be binary (`0` or `1`) to avoid an impact on final grades. A grade of 1 means that the student's coding skills are sufficient to be successful in this course, while a 0 means that the student is likely not prepared to take this course.\n",
        "\n",
        "**BECAUSE OF THIS, WE URGE YOU TO COMPLETE THIS ASSIGNMENT ON YOUR OWN, WITHOUT DISCUSSING IT WITH CLASSMATES OR OTHER PEOPLE. OF COURSE, YOU CAN REFER TO EACH MODULE'S DOCUMENTATION AVAILABLE ON THE INTERNET.**"
      ]
    },
    {
      "cell_type": "markdown",
      "metadata": {
        "id": "AsQGk2hqF_mf",
        "colab_type": "text"
      },
      "source": [
        "## Part 1 - Load the necessary modules\n",
        "\n",
        "1.   The module `numpy` (you should be able to refer to numpy as `np` from now on)\n",
        "1.   The submodule `pyplot` from the module `matplotlib` (you should be able to refer to this as `plt` from now on)\n",
        "1.   The module `imageio`\n",
        "1.   The module `os`\n",
        "1.   The class `LinearRegression` from `sklearn.linear_model`\n",
        "1.   The subvolume `drive` from the module `google.colab`\n",
        "1.   Use the function `drive.mount('/content/gdrive')` to mount your Google drive into this notebook."
      ]
    },
    {
      "cell_type": "code",
      "metadata": {
        "id": "_j_ZCM_PXyk5",
        "colab_type": "code",
        "colab": {}
      },
      "source": [
        "# code for part 1 goes here"
      ],
      "execution_count": 0,
      "outputs": []
    },
    {
      "cell_type": "markdown",
      "metadata": {
        "id": "PT7ZGcKjHh1E",
        "colab_type": "text"
      },
      "source": [
        "## Part 2 - Simple image I/O and manipulation with `numpy`\n",
        "\n",
        "1.   Outside of this noteobook, import an image (png, jpg... any format is fine) in the root of your Google drive.\n",
        "1.   In this notebook, use the module `imageio` to open your image and read it in as a numpy array.  To find the path to your Google drive root you need to use `os.getcwd() + \"/gdrive/My Drive\"`.\n",
        "1.   Print the shape of the image.  The image will have one of the following shapes: \n",
        "        *   `[height, width, 3]`. The image has 3 channels Red-Green-Blue (RGB). Use the formula R x 0.2989 + G x 0.5870 + B x 0.1140 to transform it to a gray scale image.\n",
        "        *   `[height, width, 4]`. In this case, the fourth channel is the opacity, which you don't need. Get rid of the fourth channel and follow the formula above to turn the image into a gray scale image.\n",
        "        * `[height, width]`. The image is already gray scale, leave it as is.\n",
        "1.   Show this numpy array as an image using `matplotlib.pyplot.imshow`.\n",
        "1.   Using functions from `numpy.random`, add random gaussian noise with mean 0 and standard deviation 13 to the image and display the new, noisy image.\n",
        "\n"
      ]
    },
    {
      "cell_type": "code",
      "metadata": {
        "id": "uXQOUOWLX9fc",
        "colab_type": "code",
        "colab": {}
      },
      "source": [
        "# code for part 2 goes here"
      ],
      "execution_count": 0,
      "outputs": []
    },
    {
      "cell_type": "markdown",
      "metadata": {
        "id": "HLqJmTLjsk8s",
        "colab_type": "text"
      },
      "source": [
        "## Part 3 - 2D point visualization\n",
        "\n",
        "1.   Create an array of shape `[400, 2]` where each entry is randomly chosen from a uniform distribution in the closed range `[-10, 10]`. You will obtain a dataset of 400 points in the 2D Euclidean plane. As an example of the structure of this array, let's name this array `X`:\n",
        "  *   `X[9, :]` is the tenth point in dataset (remember that in CS you start counting from 0)\n",
        "  *   `X[9, 0]` is the tenth point's x dimension\n",
        "  *   `X[9, 1]` is the tenth point's y dimension\n",
        "1.   Plot these 400 points in the 2D plane.\n",
        "1.   Define a function that takes this array and returns a label indicating the quadrant each point in the array falls in:\n",
        "  *   x < 0, y > 0 $\\rightarrow$ label = 0\n",
        "  *   x > 0, y > 0 $\\rightarrow$ label = 1\n",
        "  *   x < 0, y < 0 $\\rightarrow$ label = 2\n",
        "  *   x > 0, y < 0 $\\rightarrow$ label = 3\n",
        "1. Plot the 400 points again, but this time color each point according to its label: 0=blue, 1=green, 2=red, 3=black."
      ]
    },
    {
      "cell_type": "code",
      "metadata": {
        "id": "eXBseYIhbbaw",
        "colab_type": "code",
        "colab": {}
      },
      "source": [
        "# code for part 3 goes here"
      ],
      "execution_count": 0,
      "outputs": []
    },
    {
      "cell_type": "markdown",
      "metadata": {
        "id": "uU4zUD41GPNn",
        "colab_type": "text"
      },
      "source": [
        "## Part 4 - Linear regression with `scikit-learn`\n",
        "\n",
        "1.   Using `numpy`, create the dataset: your `x` coordinates should be an array of ordered integers from 0 to 10, and your `y` coordinates should be the square of your `x` coordinates.\n",
        "1.   Fit a linear regression model to this dataset using the class `LinearRegression`.\n",
        "1.   Plot both the dataset and the resulting line you fit to this dataset.\n"
      ]
    },
    {
      "cell_type": "code",
      "metadata": {
        "id": "imYw9Cmybl3v",
        "colab_type": "code",
        "colab": {}
      },
      "source": [
        "# code for part 4 goes here"
      ],
      "execution_count": 0,
      "outputs": []
    },
    {
      "cell_type": "markdown",
      "metadata": {
        "id": "OKWxuewhVi0f",
        "colab_type": "text"
      },
      "source": [
        "## Congrats, you are done!\n",
        "\n",
        "Throughout the semester, the three TMs will help you figure out the concepts and also help with some coding problems, but you are in charge of your work and you are responsible for starting the class with the proper background.\n",
        "\n"
      ]
    }
  ]
}