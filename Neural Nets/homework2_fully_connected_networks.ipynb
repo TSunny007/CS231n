{
  "nbformat": 4,
  "nbformat_minor": 0,
  "metadata": {
    "colab": {
      "name": "homework2_fully_connected_networks.ipynb",
      "version": "0.3.2",
      "provenance": [],
      "collapsed_sections": []
    },
    "kernelspec": {
      "display_name": "Python 3",
      "name": "python3",
      "language": "python"
    }
  },
  "cells": [
    {
      "metadata": {
        "id": "MYPHJRpK16sp",
        "colab_type": "text"
      },
      "cell_type": "markdown",
      "source": [
        "# Fully-Connected Neural Nets\n",
        "In the previous homework you implemented a fully-connected two-layer neural network on CIFAR-10. The implementation was simple but not very modular since the loss and gradient were computed in a single monolithic function. This is manageable for a simple two-layer network, but would become impractical as we move to bigger models. Ideally we want to build networks using a more modular design so that we can implement different layer types in isolation and then snap them together into models with different architectures.\n",
        "\n",
        "In this exercise we will implement fully-connected networks using a more modular approach. For each layer we will implement a `forward` and a `backward` function. The `forward` function will receive inputs, weights, and other parameters and will return both an output and a `cache` object storing data needed for the backward pass, like this:\n",
        "\n",
        "```python\n",
        "def layer_forward(x, w):\n",
        "  \"\"\" Receive inputs x and weights w \"\"\"\n",
        "  # Do some computations ...\n",
        "  z = # ... some intermediate value\n",
        "  # Do some more computations ...\n",
        "  out = # the output\n",
        "   \n",
        "  cache = (x, w, z, out) # Values we need to compute gradients\n",
        "   \n",
        "  return out, cache\n",
        "```\n",
        "\n",
        "The backward pass will receive upstream derivatives and the `cache` object, and will return gradients with respect to the inputs and weights, like this:\n",
        "\n",
        "```python\n",
        "def layer_backward(dout, cache):\n",
        "  \"\"\"\n",
        "  Receive dout (derivative of loss with respect to outputs) and cache,\n",
        "  and compute derivative with respect to inputs.\n",
        "  \"\"\"\n",
        "  # Unpack cache values\n",
        "  x, w, z, out = cache\n",
        "  \n",
        "  # Use values in cache to compute derivatives\n",
        "  dx = # Derivative of loss with respect to x\n",
        "  dw = # Derivative of loss with respect to w\n",
        "  \n",
        "  return dx, dw\n",
        "```\n",
        "\n",
        "After implementing a bunch of layers this way, we will be able to easily combine them to build classifiers with different architectures.\n",
        "\n",
        "In addition to implementing fully-connected networks of arbitrary depth, we will also explore different update rules for optimization, and introduce Dropout as a regularizer and Batch Normalization as a tool to more efficiently optimize deep networks.\n",
        "  "
      ]
    },
    {
      "metadata": {
        "id": "4ia1PNqY16sq",
        "colab_type": "code",
        "colab": {}
      },
      "cell_type": "code",
      "source": [
        "import numpy as np\n",
        "import matplotlib.pyplot as plt\n",
        "import seaborn as sns\n",
        "\n",
        "sns.set()"
      ],
      "execution_count": 0,
      "outputs": []
    },
    {
      "metadata": {
        "id": "YRo8qIbw-R09",
        "colab_type": "text"
      },
      "cell_type": "markdown",
      "source": [
        "## Load and preprocess CIFAR-10 dataset"
      ]
    },
    {
      "metadata": {
        "id": "pCvEb_wr16sv",
        "colab_type": "code",
        "colab": {
          "base_uri": "https://localhost:8080/",
          "height": 333
        },
        "outputId": "e14aff9b-70bf-4f4e-e54d-912a6a32c71f"
      },
      "cell_type": "code",
      "source": [
        "from keras.datasets import cifar10\n",
        "\n",
        "def get_CIFAR10_data(num_training=49000, num_validation=1000,\n",
        "                     num_test=1000, num_dev=500):\n",
        "    \"\"\"\n",
        "    Load the CIFAR-10 dataset from disk and perform preprocessing to prepare\n",
        "    it for the linear classifier. These are the same steps as we used for the\n",
        "    SVM, but condensed to a single function.  \n",
        "    \"\"\"\n",
        "    # Load the raw CIFAR-10 data\n",
        "    (X_train, y_train), (X_test, y_test) = cifar10.load_data()\n",
        "    \n",
        "    # All the data comes in the uint8 format, so we need to convert\n",
        "    # it to floats so that we compute numbers greater than 255.\n",
        "    X_train = X_train.astype(np.float)\n",
        "    X_test = X_test.astype(np.float)\n",
        "    # Also, for convenience we flatten the class arrays.\n",
        "    y_train = y_train.flatten()\n",
        "    y_test = y_test.flatten()\n",
        "    \n",
        "    # Split the data into train, val, and test sets. In addition we will\n",
        "    # create a small development set as a subset of the training data;\n",
        "    # we can use this for development so our code runs faster.\n",
        "    \n",
        "    # Our validation set will be num_validation points from the original\n",
        "    # training set.\n",
        "    mask = list(range(num_training, num_training + num_validation))\n",
        "    X_val = X_train[mask]\n",
        "    y_val = y_train[mask]\n",
        "    \n",
        "    # Our training set will be the first num_train points from the original\n",
        "    # training set.\n",
        "    mask = list(range(num_training))\n",
        "    X_train = X_train[mask]\n",
        "    y_train = y_train[mask]\n",
        "    \n",
        "    # We will also make a development set, which is a small subset of\n",
        "    # the training set.\n",
        "    mask = np.random.choice(num_training, num_dev, replace=False)\n",
        "    X_dev = X_train[mask]\n",
        "    y_dev = y_train[mask]\n",
        "    \n",
        "    # We use the first num_test points of the original test set as our\n",
        "    # test set.\n",
        "    mask = list(range(num_test))\n",
        "    X_test = X_test[mask]\n",
        "    y_test = y_test[mask]\n",
        "    \n",
        "    # Preprocessing: reshape the image data into rows\n",
        "    X_train = np.reshape(X_train, (X_train.shape[0], -1))\n",
        "    X_val = np.reshape(X_val, (X_val.shape[0], -1))\n",
        "    X_test = np.reshape(X_test, (X_test.shape[0], -1))\n",
        "    X_dev = np.reshape(X_dev, (X_dev.shape[0], -1))\n",
        "    \n",
        "    # Normalize the data: subtract the mean image\n",
        "    mean_image = np.mean(X_train, axis = 0)\n",
        "    X_train -= mean_image\n",
        "    X_val -= mean_image\n",
        "    X_test -= mean_image\n",
        "    X_dev -= mean_image\n",
        "    \n",
        "    return X_train, y_train, X_val, y_val, X_test, y_test, X_dev, y_dev\n",
        "\n",
        "\n",
        "# Invoke the above function to get our data.\n",
        "X_train, y_train, X_val, y_val, X_test, y_test, X_dev, y_dev = get_CIFAR10_data()\n",
        "print('Train data shape: ', X_train.shape)\n",
        "print('Train labels shape: ', y_train.shape)\n",
        "print('Validation data shape: ', X_val.shape)\n",
        "print('Validation labels shape: ', y_val.shape)\n",
        "print('Test data shape: ', X_test.shape)\n",
        "print('Test labels shape: ', y_test.shape)\n",
        "print('dev data shape: ', X_dev.shape)\n",
        "print('dev labels shape: ', y_dev.shape)"
      ],
      "execution_count": 5,
      "outputs": [
        {
          "output_type": "stream",
          "text": [
            "Train data shape:  (49000, 3072)\n",
            "Train labels shape:  (49000,)\n",
            "Validation data shape:  (1000, 3072)\n",
            "Validation labels shape:  (1000,)\n",
            "Test data shape:  (1000, 3072)\n",
            "Test labels shape:  (1000,)\n",
            "dev data shape:  (500, 3072)\n",
            "dev labels shape:  (500,)\n"
          ],
          "name": "stdout"
        }
      ]
    },
    {
      "metadata": {
        "id": "bCB1B-dA-c90",
        "colab_type": "text"
      },
      "cell_type": "markdown",
      "source": [
        "# Helper functions\n",
        "\n",
        "## Numerical gradient checkers"
      ]
    },
    {
      "metadata": {
        "id": "ziIzLQ80-dQZ",
        "colab_type": "code",
        "colab": {}
      },
      "cell_type": "code",
      "source": [
        "def eval_numerical_gradient(f, x, verbose=True, h=0.00001):\n",
        "    \"\"\"\n",
        "    a naive implementation of numerical gradient of f at x\n",
        "    - f should be a function that takes a single argument\n",
        "    - x is the point (numpy array) to evaluate the gradient at\n",
        "    \"\"\"\n",
        "\n",
        "    fx = f(x) # evaluate function value at original point\n",
        "    grad = np.zeros_like(x)\n",
        "    # iterate over all indexes in x\n",
        "    it = np.nditer(x, flags=['multi_index'], op_flags=['readwrite'])\n",
        "    while not it.finished:\n",
        "\n",
        "        # evaluate function at x+h\n",
        "        ix = it.multi_index\n",
        "        oldval = x[ix]\n",
        "        x[ix] = oldval + h # increment by h\n",
        "        fxph = f(x) # evalute f(x + h)\n",
        "        x[ix] = oldval - h\n",
        "        fxmh = f(x) # evaluate f(x - h)\n",
        "        x[ix] = oldval # restore\n",
        "\n",
        "        # compute the partial derivative with centered formula\n",
        "        grad[ix] = (fxph - fxmh) / (2 * h) # the slope\n",
        "        if verbose:\n",
        "            print(ix, grad[ix])\n",
        "        it.iternext() # step to next dimension\n",
        "\n",
        "    return grad\n",
        "\n",
        "\n",
        "def eval_numerical_gradient_array(f, x, df, h=1e-5):\n",
        "    \"\"\"\n",
        "    Evaluate a numeric gradient for a function that accepts a numpy\n",
        "    array and returns a numpy array.\n",
        "    \"\"\"\n",
        "    grad = np.zeros_like(x)\n",
        "    it = np.nditer(x, flags=['multi_index'], op_flags=['readwrite'])\n",
        "    while not it.finished:\n",
        "        ix = it.multi_index\n",
        "\n",
        "        oldval = x[ix]\n",
        "        x[ix] = oldval + h\n",
        "        pos = f(x).copy()\n",
        "        x[ix] = oldval - h\n",
        "        neg = f(x).copy()\n",
        "        x[ix] = oldval\n",
        "\n",
        "        grad[ix] = np.sum((pos - neg) * df) / (2 * h)\n",
        "        it.iternext()\n",
        "    return grad"
      ],
      "execution_count": 0,
      "outputs": []
    },
    {
      "metadata": {
        "id": "U6gIJfwnSKaG",
        "colab_type": "text"
      },
      "cell_type": "markdown",
      "source": [
        "## Relative error function"
      ]
    },
    {
      "metadata": {
        "id": "215pCebySKuL",
        "colab_type": "code",
        "colab": {}
      },
      "cell_type": "code",
      "source": [
        "def rel_error(x, y):\n",
        "  \"\"\" returns relative error \"\"\"\n",
        "  return np.max(np.abs(x - y) / (np.maximum(1e-8, np.abs(x) + np.abs(y))))"
      ],
      "execution_count": 0,
      "outputs": []
    },
    {
      "metadata": {
        "id": "am1IoNjUbspQ",
        "colab_type": "text"
      },
      "cell_type": "markdown",
      "source": [
        "## Print mean and standard deviation"
      ]
    },
    {
      "metadata": {
        "id": "n70Puw7Wbsyr",
        "colab_type": "code",
        "colab": {}
      },
      "cell_type": "code",
      "source": [
        "def print_mean_std(x,axis=0):\n",
        "    print('  means: ', x.mean(axis=axis))\n",
        "    print('  stds:  ', x.std(axis=axis))\n",
        "    print() "
      ],
      "execution_count": 0,
      "outputs": []
    },
    {
      "metadata": {
        "id": "L4glzdt69L5t",
        "colab_type": "text"
      },
      "cell_type": "markdown",
      "source": [
        "# Affine Layer\n",
        "\n",
        "This is the typical fully connected layer.  Implement the forward and backward passes."
      ]
    },
    {
      "metadata": {
        "id": "J0KqKurQ8oSt",
        "colab_type": "code",
        "colab": {}
      },
      "cell_type": "code",
      "source": [
        "def affine_forward(x, w, b):\n",
        "    \"\"\"\n",
        "    Computes the forward pass for an affine (fully-connected) layer.\n",
        "\n",
        "    The input x has shape (N, d_1, ..., d_k) and contains a minibatch of N\n",
        "    examples, where each example x[i] has shape (d_1, ..., d_k). We will\n",
        "    reshape each input into a vector of dimension D = d_1 * ... * d_k, and\n",
        "    then transform it to an output vector of dimension M.\n",
        "\n",
        "    Inputs:\n",
        "    - x: A numpy array containing input data, of shape (N, d_1, ..., d_k)\n",
        "    - w: A numpy array of weights, of shape (D, M)\n",
        "    - b: A numpy array of biases, of shape (M,)\n",
        "\n",
        "    Returns a tuple of:\n",
        "    - out: output, of shape (N, M)\n",
        "    - cache: (x, w, b)\n",
        "    \"\"\"\n",
        "    out = None\n",
        "    ###########################################################################\n",
        "    # TODO: Implement the affine forward pass. Store the result in out. You   #\n",
        "    # will need to reshape the input into rows.                               #\n",
        "    ###########################################################################\n",
        "    x_flattened = x.reshape(x.shape[0], -1)\n",
        "    out = x_flattened.dot(w) + b\n",
        "    ###########################################################################\n",
        "    #                             END OF YOUR CODE                            #\n",
        "    ###########################################################################\n",
        "    cache = (x, w, b)\n",
        "    return out, cache\n",
        "\n",
        "\n",
        "def affine_backward(dout, cache):\n",
        "    \"\"\"\n",
        "    Computes the backward pass for an affine layer.\n",
        "\n",
        "    Inputs:\n",
        "    - dout: Upstream derivative, of shape (N, M)\n",
        "    - cache: Tuple of:\n",
        "      - x: Input data, of shape (N, d_1, ... d_k)\n",
        "      - w: Weights, of shape (D, M)\n",
        "      - b: Biases, of shape (M,)\n",
        "\n",
        "    Returns a tuple of:\n",
        "    - dx: Gradient with respect to x, of shape (N, d1, ..., d_k)\n",
        "    - dw: Gradient with respect to w, of shape (D, M)\n",
        "    - db: Gradient with respect to b, of shape (M,)\n",
        "    \"\"\"\n",
        "    x, w, b = cache\n",
        "    dx, dw, db = None, None, None\n",
        "    ###########################################################################\n",
        "    # TODO: Implement the affine backward pass.                               #\n",
        "    ###########################################################################\n",
        "    x_flattened = x.reshape(x.shape[0], -1)\n",
        "    dw = x_flattened.T.dot(dout)\n",
        "    db = np.sum(dout, axis=0)\n",
        "    dx = dout.dot(w.T).reshape((x.shape))\n",
        "    ###########################################################################\n",
        "    #                             END OF YOUR CODE                            #\n",
        "    ###########################################################################\n",
        "    return dx, dw, db"
      ],
      "execution_count": 0,
      "outputs": []
    },
    {
      "metadata": {
        "id": "nhqA_8uo16sy",
        "colab_type": "text"
      },
      "cell_type": "markdown",
      "source": [
        "## Affine layer: forward\n",
        "You can test your implementaion of the forward pass by running the following:"
      ]
    },
    {
      "metadata": {
        "id": "Byp0Xg3816s0",
        "colab_type": "code",
        "colab": {
          "base_uri": "https://localhost:8080/",
          "height": 213
        },
        "outputId": "925a42eb-0419-4c1e-b403-95eebdde437a"
      },
      "cell_type": "code",
      "source": [
        "# Test the affine_forward function\n",
        "\n",
        "num_inputs = 2\n",
        "input_shape = (4, 5, 6)\n",
        "output_dim = 3\n",
        "\n",
        "input_size = num_inputs * np.prod(input_shape)\n",
        "weight_size = output_dim * np.prod(input_shape)\n",
        "\n",
        "x = np.linspace(-0.1, 0.5, num=input_size).reshape(num_inputs, *input_shape)\n",
        "w = np.linspace(-0.2, 0.3, num=weight_size).reshape(np.prod(input_shape), output_dim)\n",
        "b = np.linspace(-0.3, 0.1, num=output_dim)\n",
        "out, _ = affine_forward(x, w, b)\n",
        "correct_out = np.array([[ 1.49834967,  1.70660132,  1.91485297],\n",
        "                        [ 3.25553199,  3.5141327,   3.77273342]])\n",
        "\n",
        "# Compare your output with ours. The error should be around e-9 or less.\n",
        "print('Testing affine_forward function:')\n",
        "print('difference: ', rel_error(out, correct_out))"
      ],
      "execution_count": 10,
      "outputs": [
        {
          "output_type": "stream",
          "text": [
            "Testing affine_forward function:\n",
            "difference:  9.769849468192957e-10\n"
          ],
          "name": "stdout"
        }
      ]
    },
    {
      "metadata": {
        "id": "RU9guj2d16s3",
        "colab_type": "text"
      },
      "cell_type": "markdown",
      "source": [
        "## Affine layer: backward\n",
        "You can test your implementation of the backward pass by using numeric gradient checking."
      ]
    },
    {
      "metadata": {
        "id": "4rALE52K16s4",
        "colab_type": "code",
        "colab": {
          "base_uri": "https://localhost:8080/",
          "height": 246
        },
        "outputId": "60b74fe6-98bc-4a96-bd3e-a04f10a4a4fa"
      },
      "cell_type": "code",
      "source": [
        "# Test the affine_backward function\n",
        "np.random.seed(231)\n",
        "x = np.random.randn(10, 2, 3)\n",
        "w = np.random.randn(6, 5)\n",
        "b = np.random.randn(5)\n",
        "dout = np.random.randn(10, 5)\n",
        "\n",
        "dx_num = eval_numerical_gradient_array(lambda x: affine_forward(x, w, b)[0], x, dout)\n",
        "dw_num = eval_numerical_gradient_array(lambda w: affine_forward(x, w, b)[0], w, dout)\n",
        "db_num = eval_numerical_gradient_array(lambda b: affine_forward(x, w, b)[0], b, dout)\n",
        "\n",
        "_, cache = affine_forward(x, w, b)\n",
        "dx, dw, db = affine_backward(dout, cache)\n",
        "\n",
        "# The error should be around e-10 or less\n",
        "print('Testing affine_backward function:')\n",
        "print('dx error: ', rel_error(dx_num, dx))\n",
        "print('dw error: ', rel_error(dw_num, dw))\n",
        "print('db error: ', rel_error(db_num, db))"
      ],
      "execution_count": 11,
      "outputs": [
        {
          "output_type": "stream",
          "text": [
            "Testing affine_backward function:\n",
            "dx error:  5.399100368651805e-11\n",
            "dw error:  9.904211865398145e-11\n",
            "db error:  2.4122867568119087e-11\n"
          ],
          "name": "stdout"
        }
      ]
    },
    {
      "metadata": {
        "id": "6HYQHYBKOeWQ",
        "colab_type": "text"
      },
      "cell_type": "markdown",
      "source": [
        "# ReLU activation\n",
        "\n",
        "Implement the forward and backward pass of a ReLU activation."
      ]
    },
    {
      "metadata": {
        "id": "Ae8tDk1DOgxx",
        "colab_type": "code",
        "colab": {}
      },
      "cell_type": "code",
      "source": [
        "def relu_forward(x):\n",
        "    \"\"\"\n",
        "    Computes the forward pass for a layer of rectified linear units (ReLUs).\n",
        "\n",
        "    Input:\n",
        "    - x: Inputs, of any shape\n",
        "\n",
        "    Returns a tuple of:\n",
        "    - out: Output, of the same shape as x\n",
        "    - cache: x\n",
        "    \"\"\"\n",
        "    out = None\n",
        "    ###########################################################################\n",
        "    # TODO: Implement the ReLU forward pass.                                  #\n",
        "    ###########################################################################\n",
        "    out = np.clip(x, 0, None)\n",
        "    ###########################################################################\n",
        "    #                             END OF YOUR CODE                            #\n",
        "    ###########################################################################\n",
        "    cache = x\n",
        "    return out, cache\n",
        "\n",
        "\n",
        "def relu_backward(dout, cache):\n",
        "    \"\"\"\n",
        "    Computes the backward pass for a layer of rectified linear units (ReLUs).\n",
        "\n",
        "    Input:\n",
        "    - dout: Upstream derivatives, of any shape\n",
        "    - cache: Input x, of same shape as dout\n",
        "\n",
        "    Returns:\n",
        "    - dx: Gradient with respect to x\n",
        "    \"\"\"\n",
        "    dx, x = None, cache\n",
        "    ###########################################################################\n",
        "    # TODO: Implement the ReLU backward pass.                                 #\n",
        "    ###########################################################################\n",
        "    dx = (x > 0) * dout\n",
        "    ###########################################################################\n",
        "    #                             END OF YOUR CODE                            #\n",
        "    ###########################################################################\n",
        "    return dx"
      ],
      "execution_count": 0,
      "outputs": []
    },
    {
      "metadata": {
        "id": "Pgm5AorR16s6",
        "colab_type": "text"
      },
      "cell_type": "markdown",
      "source": [
        "## ReLU activation: forward\n",
        "Test your implementation of the forward pass by using the following:"
      ]
    },
    {
      "metadata": {
        "id": "MW6Z7uAg16s7",
        "colab_type": "code",
        "colab": {
          "base_uri": "https://localhost:8080/",
          "height": 213
        },
        "outputId": "dfcace46-ed88-459d-ee8b-e58e5651ce99"
      },
      "cell_type": "code",
      "source": [
        "# Test the relu_forward function\n",
        "\n",
        "x = np.linspace(-0.5, 0.5, num=12).reshape(3, 4)\n",
        "\n",
        "out, _ = relu_forward(x)\n",
        "correct_out = np.array([[ 0.,          0.,          0.,          0.,        ],\n",
        "                        [ 0.,          0.,          0.04545455,  0.13636364,],\n",
        "                        [ 0.22727273,  0.31818182,  0.40909091,  0.5,       ]])\n",
        "\n",
        "# Compare your output with ours. The error should be on the order of e-8\n",
        "print('Testing relu_forward function:')\n",
        "print('difference: ', rel_error(out, correct_out))"
      ],
      "execution_count": 13,
      "outputs": [
        {
          "output_type": "stream",
          "text": [
            "Testing relu_forward function:\n",
            "difference:  4.999999798022158e-08\n"
          ],
          "name": "stdout"
        }
      ]
    },
    {
      "metadata": {
        "id": "kvWiPnTS16s-",
        "colab_type": "text"
      },
      "cell_type": "markdown",
      "source": [
        "## ReLU activation: backward\n",
        "Test your implementation of the backward pass by using numeric gradient checking:"
      ]
    },
    {
      "metadata": {
        "id": "2iPSawoL16s_",
        "colab_type": "code",
        "colab": {
          "base_uri": "https://localhost:8080/",
          "height": 213
        },
        "outputId": "b850dfcc-4646-4d4c-ca32-53a6037b4140"
      },
      "cell_type": "code",
      "source": [
        "np.random.seed(231)\n",
        "x = np.random.randn(10, 10)\n",
        "dout = np.random.randn(*x.shape)\n",
        "\n",
        "dx_num = eval_numerical_gradient_array(lambda x: relu_forward(x)[0], x, dout)\n",
        "\n",
        "_, cache = relu_forward(x)\n",
        "dx = relu_backward(dout, cache)\n",
        "\n",
        "# The error should be on the order of e-12\n",
        "print('Testing relu_backward function:')\n",
        "print('dx error: ', rel_error(dx_num, dx))"
      ],
      "execution_count": 14,
      "outputs": [
        {
          "output_type": "stream",
          "text": [
            "Testing relu_backward function:\n",
            "dx error:  3.2756349136310288e-12\n"
          ],
          "name": "stdout"
        }
      ]
    },
    {
      "metadata": {
        "id": "mItgkdyq16tE",
        "colab_type": "text"
      },
      "cell_type": "markdown",
      "source": [
        "# \"Sandwich\" layers\n",
        "There are some common patterns of layers that are frequently used in neural nets. For example, affine layers are frequently followed by a ReLU nonlinearity. To make these common patterns easy, we define the convenience layers `affine_relu_forward` and `affine_relu_backward` below. Run the following to numerically gradient check the backward pass:"
      ]
    },
    {
      "metadata": {
        "id": "ZqljXGZxRJeH",
        "colab_type": "code",
        "colab": {}
      },
      "cell_type": "code",
      "source": [
        "def affine_relu_forward(x, w, b):\n",
        "    \"\"\"\n",
        "    Convenience layer that perorms an affine transform followed by a ReLU\n",
        "\n",
        "    Inputs:\n",
        "    - x: Input to the affine layer\n",
        "    - w, b: Weights for the affine layer\n",
        "\n",
        "    Returns a tuple of:\n",
        "    - out: Output from the ReLU\n",
        "    - cache: Object to give to the backward pass\n",
        "    \"\"\"\n",
        "    a, fc_cache = affine_forward(x, w, b)\n",
        "    out, relu_cache = relu_forward(a)\n",
        "    cache = (fc_cache, relu_cache)\n",
        "    return out, cache\n",
        "\n",
        "\n",
        "def affine_relu_backward(dout, cache):\n",
        "    \"\"\"\n",
        "    Backward pass for the affine-relu convenience layer\n",
        "    \"\"\"\n",
        "    fc_cache, relu_cache = cache\n",
        "    da = relu_backward(dout, relu_cache)\n",
        "    dx, dw, db = affine_backward(da, fc_cache)\n",
        "    return dx, dw, db\n"
      ],
      "execution_count": 0,
      "outputs": []
    },
    {
      "metadata": {
        "id": "aOTg6PL316tF",
        "colab_type": "code",
        "colab": {
          "base_uri": "https://localhost:8080/",
          "height": 246
        },
        "outputId": "e3baaa0b-9d6b-48fa-8868-646c18d03aed"
      },
      "cell_type": "code",
      "source": [
        "np.random.seed(231)\n",
        "x = np.random.randn(2, 3, 4)\n",
        "w = np.random.randn(12, 10)\n",
        "b = np.random.randn(10)\n",
        "dout = np.random.randn(2, 10)\n",
        "\n",
        "out, cache = affine_relu_forward(x, w, b)\n",
        "dx, dw, db = affine_relu_backward(dout, cache)\n",
        "\n",
        "dx_num = eval_numerical_gradient_array(lambda x: affine_relu_forward(x, w, b)[0], x, dout)\n",
        "dw_num = eval_numerical_gradient_array(lambda w: affine_relu_forward(x, w, b)[0], w, dout)\n",
        "db_num = eval_numerical_gradient_array(lambda b: affine_relu_forward(x, w, b)[0], b, dout)\n",
        "\n",
        "# Relative error should be around e-10 or less\n",
        "print('Testing affine_relu_forward and affine_relu_backward:')\n",
        "print('dx error: ', rel_error(dx_num, dx))\n",
        "print('dw error: ', rel_error(dw_num, dw))\n",
        "print('db error: ', rel_error(db_num, db))"
      ],
      "execution_count": 16,
      "outputs": [
        {
          "output_type": "stream",
          "text": [
            "Testing affine_relu_forward and affine_relu_backward:\n",
            "dx error:  2.299579177309368e-11\n",
            "dw error:  8.162011105764925e-11\n",
            "db error:  7.826724021458994e-12\n"
          ],
          "name": "stdout"
        }
      ]
    },
    {
      "metadata": {
        "id": "N9mnuZDK16tI",
        "colab_type": "text"
      },
      "cell_type": "markdown",
      "source": [
        "# Loss layers: Softmax and SVM\n",
        "You implemented these in the last homework, so here we just give them to you."
      ]
    },
    {
      "metadata": {
        "id": "qCFGL2f7-GnR",
        "colab_type": "code",
        "colab": {}
      },
      "cell_type": "code",
      "source": [
        "def svm_loss(x, y):\n",
        "    \"\"\"\n",
        "    Computes the loss and gradient using for multiclass SVM classification.\n",
        "\n",
        "    Inputs:\n",
        "    - x: Input data, of shape (N, C) where x[i, j] is the score for the jth\n",
        "      class for the ith input.\n",
        "    - y: Vector of labels, of shape (N,) where y[i] is the label for x[i] and\n",
        "      0 <= y[i] < C\n",
        "\n",
        "    Returns a tuple of:\n",
        "    - loss: Scalar giving the loss\n",
        "    - dx: Gradient of the loss with respect to x\n",
        "    \"\"\"\n",
        "    N = x.shape[0]\n",
        "    correct_class_scores = x[np.arange(N), y]\n",
        "    margins = np.maximum(0, x - correct_class_scores[:, np.newaxis] + 1.0)\n",
        "    margins[np.arange(N), y] = 0\n",
        "    loss = np.sum(margins) / N\n",
        "    num_pos = np.sum(margins > 0, axis=1)\n",
        "    dx = np.zeros_like(x)\n",
        "    dx[margins > 0] = 1\n",
        "    dx[np.arange(N), y] -= num_pos\n",
        "    dx /= N\n",
        "    return loss, dx\n",
        "\n",
        "\n",
        "def softmax_loss(x, y):\n",
        "    \"\"\"\n",
        "    Computes the loss and gradient for softmax classification.\n",
        "\n",
        "    Inputs:\n",
        "    - x: Input data, of shape (N, C) where x[i, j] is the score for the jth\n",
        "      class for the ith input.\n",
        "    - y: Vector of labels, of shape (N,) where y[i] is the label for x[i] and\n",
        "      0 <= y[i] < C\n",
        "\n",
        "    Returns a tuple of:\n",
        "    - loss: Scalar giving the loss\n",
        "    - dx: Gradient of the loss with respect to x\n",
        "    \"\"\"\n",
        "    shifted_logits = x - np.max(x, axis=1, keepdims=True)\n",
        "    Z = np.sum(np.exp(shifted_logits), axis=1, keepdims=True)\n",
        "    log_probs = shifted_logits - np.log(Z)\n",
        "    probs = np.exp(log_probs)\n",
        "    N = x.shape[0]\n",
        "    loss = -np.sum(log_probs[np.arange(N), y]) / N\n",
        "    dx = probs.copy()\n",
        "    dx[np.arange(N), y] -= 1\n",
        "    dx /= N\n",
        "    return loss, dx\n"
      ],
      "execution_count": 0,
      "outputs": []
    },
    {
      "metadata": {
        "id": "07g0n2j-S2cM",
        "colab_type": "text"
      },
      "cell_type": "markdown",
      "source": [
        "You can make sure that the implementations are correct by running the following the cells:"
      ]
    },
    {
      "metadata": {
        "id": "oLVq-Yls16tJ",
        "colab_type": "code",
        "colab": {
          "base_uri": "https://localhost:8080/",
          "height": 293
        },
        "outputId": "7d2a71bf-a986-4026-d59a-c0d4712f4d0c"
      },
      "cell_type": "code",
      "source": [
        "np.random.seed(231)\n",
        "num_classes, num_inputs = 10, 50\n",
        "x = 0.001 * np.random.randn(num_inputs, num_classes)\n",
        "y = np.random.randint(num_classes, size=num_inputs)\n",
        "\n",
        "dx_num = eval_numerical_gradient(lambda x: svm_loss(x, y)[0], x, verbose=False)\n",
        "loss, dx = svm_loss(x, y)\n",
        "\n",
        "# Test svm_loss function. Loss should be around 9 and dx error should be around the order of e-9\n",
        "print('Testing svm_loss:')\n",
        "print('loss: ', loss)\n",
        "print('dx error: ', rel_error(dx_num, dx))\n",
        "\n",
        "dx_num = eval_numerical_gradient(lambda x: softmax_loss(x, y)[0], x, verbose=False)\n",
        "loss, dx = softmax_loss(x, y)\n",
        "\n",
        "# Test softmax_loss function. Loss should be close to 2.3 and dx error should be around e-8\n",
        "print('\\nTesting softmax_loss:')\n",
        "print('loss: ', loss)\n",
        "print('dx error: ', rel_error(dx_num, dx))"
      ],
      "execution_count": 18,
      "outputs": [
        {
          "output_type": "stream",
          "text": [
            "Testing svm_loss:\n",
            "loss:  8.999602749096233\n",
            "dx error:  1.4021566006651672e-09\n",
            "\n",
            "Testing softmax_loss:\n",
            "loss:  2.302545844500738\n",
            "dx error:  9.384673161989355e-09\n"
          ],
          "name": "stdout"
        }
      ]
    },
    {
      "metadata": {
        "id": "3qluLTuF16tO",
        "colab_type": "text"
      },
      "cell_type": "markdown",
      "source": [
        "# Two-layer network\n",
        "In the previous assignment you implemented a two-layer neural network in a single monolithic class. Now that you have implemented modular versions of the necessary layers, you will reimplement the two layer network using these modular implementations.\n",
        "\n",
        "Complete the implementation of the `TwoLayerNet` class below. This class will serve as a model for the other networks you will implement in this assignment, so read through it to make sure you understand the API."
      ]
    },
    {
      "metadata": {
        "id": "CZJ_HWUYTFr0",
        "colab_type": "code",
        "colab": {}
      },
      "cell_type": "code",
      "source": [
        "class TwoLayerNet(object):\n",
        "    \"\"\"\n",
        "    A two-layer fully-connected neural network with ReLU nonlinearity and\n",
        "    softmax loss that uses a modular layer design. We assume an input dimension\n",
        "    of D, a hidden dimension of H, and perform classification over C classes.\n",
        "\n",
        "    The architecure should be affine - relu - affine - softmax.\n",
        "\n",
        "    Note that this class does not implement gradient descent; instead, it\n",
        "    will interact with a separate Solver object that is responsible for running\n",
        "    optimization.\n",
        "\n",
        "    The learnable parameters of the model are stored in the dictionary\n",
        "    self.params that maps parameter names to numpy arrays.\n",
        "    \"\"\"\n",
        "\n",
        "    def __init__(self, input_dim=3*32*32, hidden_dim=100, num_classes=10,\n",
        "                 weight_scale=1e-3, reg=0.0):\n",
        "        \"\"\"\n",
        "        Initialize a new network.\n",
        "\n",
        "        Inputs:\n",
        "        - input_dim: An integer giving the size of the input\n",
        "        - hidden_dim: An integer giving the size of the hidden layer\n",
        "        - num_classes: An integer giving the number of classes to classify\n",
        "        - weight_scale: Scalar giving the standard deviation for random\n",
        "          initialization of the weights.\n",
        "        - reg: Scalar giving L2 regularization strength.\n",
        "        \"\"\"\n",
        "        self.params = {}\n",
        "        self.reg = reg\n",
        "\n",
        "        ############################################################################\n",
        "        # TODO: Initialize the weights and biases of the two-layer net. Weights    #\n",
        "        # should be initialized from a Gaussian centered at 0.0 with               #\n",
        "        # standard deviation equal to weight_scale, and biases should be           #\n",
        "        # initialized to zero. All weights and biases should be stored in the      #\n",
        "        # dictionary self.params, with first layer weights                         #\n",
        "        # and biases using the keys 'W1' and 'b1' and second layer                 #\n",
        "        # weights and biases using the keys 'W2' and 'b2'.                         #\n",
        "        ############################################################################\n",
        "        self.params['W1'] = np.random.normal(0, weight_scale, (input_dim, hidden_dim))\n",
        "        self.params['b1'] = np.zeros(hidden_dim)\n",
        "        self.params['W2'] = np.random.normal(0, weight_scale, (hidden_dim, num_classes))\n",
        "        self.params['b2'] = np.zeros(num_classes)\n",
        "        ############################################################################\n",
        "        #                             END OF YOUR CODE                             #\n",
        "        ############################################################################\n",
        "\n",
        "\n",
        "    def loss(self, X, y=None):\n",
        "        \"\"\"\n",
        "        Compute loss and gradient for a minibatch of data.\n",
        "\n",
        "        Inputs:\n",
        "        - X: Array of input data of shape (N, d_1, ..., d_k)\n",
        "        - y: Array of labels, of shape (N,). y[i] gives the label for X[i].\n",
        "\n",
        "        Returns:\n",
        "        If y is None, then run a test-time forward pass of the model and return:\n",
        "        - scores: Array of shape (N, C) giving classification scores, where\n",
        "          scores[i, c] is the classification score for X[i] and class c.\n",
        "\n",
        "        If y is not None, then run a training-time forward and backward pass and\n",
        "        return a tuple of:\n",
        "        - loss: Scalar value giving the loss\n",
        "        - grads: Dictionary with the same keys as self.params, mapping parameter\n",
        "          names to gradients of the loss with respect to those parameters.\n",
        "        \"\"\"\n",
        "        scores = None\n",
        "        ############################################################################\n",
        "        # TODO: Implement the forward pass for the two-layer net, computing the    #\n",
        "        # class scores for X and storing them in the scores variable.              #\n",
        "        ############################################################################\n",
        "        b1,w1,b2,w2 = self.params['b1'], self.params['W1'], self.params['b2'], self.params['W2']\n",
        "        ar1_out, ar1_cache = affine_relu_forward(X, w1, b1)\n",
        "        a2_out, a2_cache = affine_forward(ar1_out, w2, b2)\n",
        "        scores = a2_out\n",
        "        ############################################################################\n",
        "        #                             END OF YOUR CODE                             #\n",
        "        ############################################################################\n",
        "\n",
        "        # If y is None then we are in test mode so just return scores\n",
        "        if y is None:\n",
        "            return scores\n",
        "\n",
        "        loss, grads = 0, {}\n",
        "        ############################################################################\n",
        "        # TODO: Implement the backward pass for the two-layer net. Store the loss  #\n",
        "        # in the loss variable and gradients in the grads dictionary. Compute data #\n",
        "        # loss using softmax, and make sure that grads[k] holds the gradients for  #\n",
        "        # self.params[k]. Don't forget to add L2 regularization!                   #\n",
        "        #                                                                          #\n",
        "        # NOTE: To ensure that your implementation matches ours and you pass the   #\n",
        "        # automated tests, make sure that your L2 regularization includes a factor #\n",
        "        # of 0.5 to simplify the expression for the gradient.                      #\n",
        "        ############################################################################\n",
        "        loss, dout = softmax_loss(scores,y)\n",
        "        loss += 0.5 * self.reg * (np.sum(w1*w1) + np.sum(w2*w2))\n",
        "        \n",
        "        dx2, dw2, grads['b2'] = affine_backward(dout, a2_cache)\n",
        "        grads['W2'] = dw2 + self.reg * self.params['W2']\n",
        "        dx1, dw1, grads['b1'] = affine_relu_backward(dx2, ar1_cache)\n",
        "        \n",
        "        grads['W1'] = dw1 + self.reg * self.params['W1']\n",
        "        ############################################################################\n",
        "        #                             END OF YOUR CODE                             #\n",
        "        ############################################################################\n",
        "\n",
        "        return loss, grads\n"
      ],
      "execution_count": 0,
      "outputs": []
    },
    {
      "metadata": {
        "id": "wNqhdNiRTOzM",
        "colab_type": "text"
      },
      "cell_type": "markdown",
      "source": [
        " You can run the cell below to test your implementation."
      ]
    },
    {
      "metadata": {
        "id": "0cnGhqYZ16tP",
        "colab_type": "code",
        "colab": {
          "base_uri": "https://localhost:8080/",
          "height": 393
        },
        "outputId": "c69569d4-5b39-4c93-ff70-afe957e284b4"
      },
      "cell_type": "code",
      "source": [
        "np.random.seed(231)\n",
        "N, D, H, C = 3, 5, 50, 7\n",
        "X = np.random.randn(N, D)\n",
        "y = np.random.randint(C, size=N)\n",
        "\n",
        "std = 1e-3\n",
        "model = TwoLayerNet(input_dim=D, hidden_dim=H, num_classes=C, weight_scale=std)\n",
        "\n",
        "print('Testing initialization ... ')\n",
        "W1_std = abs(model.params['W1'].std() - std)\n",
        "b1 = model.params['b1']\n",
        "W2_std = abs(model.params['W2'].std() - std)\n",
        "b2 = model.params['b2']\n",
        "assert W1_std < std / 10, 'First layer weights do not seem right'\n",
        "assert np.all(b1 == 0), 'First layer biases do not seem right'\n",
        "assert W2_std < std / 10, 'Second layer weights do not seem right'\n",
        "assert np.all(b2 == 0), 'Second layer biases do not seem right'\n",
        "\n",
        "print('Testing test-time forward pass ... ')\n",
        "model.params['W1'] = np.linspace(-0.7, 0.3, num=D*H).reshape(D, H)\n",
        "model.params['b1'] = np.linspace(-0.1, 0.9, num=H)\n",
        "model.params['W2'] = np.linspace(-0.3, 0.4, num=H*C).reshape(H, C)\n",
        "model.params['b2'] = np.linspace(-0.9, 0.1, num=C)\n",
        "X = np.linspace(-5.5, 4.5, num=N*D).reshape(D, N).T\n",
        "scores = model.loss(X)\n",
        "correct_scores = np.asarray(\n",
        "  [[11.53165108,  12.2917344,   13.05181771,  13.81190102,  14.57198434, 15.33206765,  16.09215096],\n",
        "   [12.05769098,  12.74614105,  13.43459113,  14.1230412,   14.81149128, 15.49994135,  16.18839143],\n",
        "   [12.58373087,  13.20054771,  13.81736455,  14.43418138,  15.05099822, 15.66781506,  16.2846319 ]])\n",
        "scores_diff = np.abs(scores - correct_scores).sum()\n",
        "assert scores_diff < 1e-6, 'Problem with test-time forward pass'\n",
        "\n",
        "print('Testing training loss (no regularization)')\n",
        "y = np.asarray([0, 5, 1])\n",
        "loss, grads = model.loss(X, y)\n",
        "correct_loss = 3.4702243556\n",
        "assert abs(loss - correct_loss) < 1e-10, 'Problem with training-time loss'\n",
        "\n",
        "model.reg = 1.0\n",
        "loss, grads = model.loss(X, y)\n",
        "correct_loss = 26.5948426952\n",
        "assert abs(loss - correct_loss) < 1e-10, 'Problem with regularization loss'\n",
        "\n",
        "# Errors should be around e-7 or less\n",
        "for reg in [0.0, 0.7]:\n",
        "  print('Running numeric gradient check with reg = ', reg)\n",
        "  model.reg = reg\n",
        "  loss, grads = model.loss(X, y)\n",
        "\n",
        "  for name in sorted(grads):\n",
        "    f = lambda _: model.loss(X, y)[0]\n",
        "    grad_num = eval_numerical_gradient(f, model.params[name], verbose=False)\n",
        "    print('%s relative error: %.2e' % (name, rel_error(grad_num, grads[name])))"
      ],
      "execution_count": 20,
      "outputs": [
        {
          "output_type": "stream",
          "text": [
            "Testing initialization ... \n",
            "Testing test-time forward pass ... \n",
            "Testing training loss (no regularization)\n",
            "Running numeric gradient check with reg =  0.0\n",
            "W1 relative error: 1.83e-08\n",
            "W2 relative error: 3.12e-10\n",
            "b1 relative error: 9.83e-09\n",
            "b2 relative error: 4.33e-10\n",
            "Running numeric gradient check with reg =  0.7\n",
            "W1 relative error: 2.53e-07\n",
            "W2 relative error: 2.85e-08\n",
            "b1 relative error: 1.56e-08\n",
            "b2 relative error: 7.76e-10\n"
          ],
          "name": "stdout"
        }
      ]
    },
    {
      "metadata": {
        "id": "B63MYb2D16tS",
        "colab_type": "text"
      },
      "cell_type": "markdown",
      "source": [
        "# Solver\n",
        "In the previous assignment, the logic for training models was coupled to the models themselves. Following a more modular design, for this assignment we have split the logic for training models into a separate class.\n",
        "\n",
        "Read through the `Solver` implementation below to familiarize yourself with the API. After doing so, use a `Solver` instance to train a `TwoLayerNet` that achieves at least `50%` accuracy on the validation set."
      ]
    },
    {
      "metadata": {
        "id": "oKnf1drA8Moi",
        "colab_type": "text"
      },
      "cell_type": "markdown",
      "source": [
        "# Solver and gradient descent update rules\n",
        "\n",
        "Here we implement various first-order update rules that are commonly used\n",
        "for training neural networks. Each update rule accepts current weights and the\n",
        "gradient of the loss with respect to those weights and produces the next set of\n",
        "weights. Each update rule has the same interface:\n",
        "\n",
        "def update(w, dw, config=None):\n",
        "\n",
        "Inputs:\n",
        "  - w: A numpy array giving the current weights.\n",
        "  - dw: A numpy array of the same shape as w giving the gradient of the\n",
        "    loss with respect to w.\n",
        "  - config: A dictionary containing hyperparameter values such as learning\n",
        "    rate, momentum, etc. If the update rule requires caching values over many\n",
        "    iterations, then config will also hold these cached values.\n",
        "\n",
        "Returns:\n",
        "  - next_w: The next point after the update.\n",
        "  - config: The config dictionary to be passed to the next iteration of the\n",
        "    update rule.\n",
        "\n",
        "NOTE: For most update rules, the default learning rate will probably not\n",
        "perform well; however the default values of the other hyperparameters should\n",
        "work well for a variety of different problems.\n",
        "\n",
        "For efficiency, update rules may perform in-place updates, mutating w and\n",
        "setting next_w equal to w.\n",
        "\n",
        "\n"
      ]
    },
    {
      "metadata": {
        "id": "1l8ocjpp7K_4",
        "colab_type": "code",
        "colab": {}
      },
      "cell_type": "code",
      "source": [
        "def sgd(w, dw, config=None):\n",
        "    \"\"\"\n",
        "    Performs vanilla stochastic gradient descent.\n",
        "\n",
        "    config format:\n",
        "    - learning_rate: Scalar learning rate.\n",
        "    \"\"\"\n",
        "    if config is None: config = {}\n",
        "    config.setdefault('learning_rate', 1e-2)\n",
        "\n",
        "    w -= config['learning_rate'] * dw\n",
        "    return w, config\n",
        "\n",
        "\n",
        "class Solver(object):\n",
        "    \"\"\"\n",
        "    A Solver encapsulates all the logic necessary for training classification\n",
        "    models. The Solver performs stochastic gradient descent using different\n",
        "    update rules defined in optim.py.\n",
        "\n",
        "    The solver accepts both training and validataion data and labels so it can\n",
        "    periodically check classification accuracy on both training and validation\n",
        "    data to watch out for overfitting.\n",
        "\n",
        "    To train a model, you will first construct a Solver instance, passing the\n",
        "    model, dataset, and various options (learning rate, batch size, etc) to the\n",
        "    constructor. You will then call the train() method to run the optimization\n",
        "    procedure and train the model.\n",
        "\n",
        "    After the train() method returns, model.params will contain the parameters\n",
        "    that performed best on the validation set over the course of training.\n",
        "    In addition, the instance variable solver.loss_history will contain a list\n",
        "    of all losses encountered during training and the instance variables\n",
        "    solver.train_acc_history and solver.val_acc_history will be lists of the\n",
        "    accuracies of the model on the training and validation set at each epoch.\n",
        "\n",
        "    Example usage might look something like this:\n",
        "\n",
        "    data = {\n",
        "      'X_train': # training data\n",
        "      'y_train': # training labels\n",
        "      'X_val': # validation data\n",
        "      'y_val': # validation labels\n",
        "    }\n",
        "    model = MyAwesomeModel(hidden_size=100, reg=10)\n",
        "    solver = Solver(model, data,\n",
        "                    update_rule='sgd',\n",
        "                    optim_config={\n",
        "                      'learning_rate': 1e-3,\n",
        "                    },\n",
        "                    lr_decay=0.95,\n",
        "                    num_epochs=10, batch_size=100,\n",
        "                    print_every=100)\n",
        "    solver.train()\n",
        "\n",
        "\n",
        "    A Solver works on a model object that must conform to the following API:\n",
        "\n",
        "    - model.params must be a dictionary mapping string parameter names to numpy\n",
        "      arrays containing parameter values.\n",
        "\n",
        "    - model.loss(X, y) must be a function that computes training-time loss and\n",
        "      gradients, and test-time classification scores, with the following inputs\n",
        "      and outputs:\n",
        "\n",
        "      Inputs:\n",
        "      - X: Array giving a minibatch of input data of shape (N, d_1, ..., d_k)\n",
        "      - y: Array of labels, of shape (N,) giving labels for X where y[i] is the\n",
        "        label for X[i].\n",
        "\n",
        "      Returns:\n",
        "      If y is None, run a test-time forward pass and return:\n",
        "      - scores: Array of shape (N, C) giving classification scores for X where\n",
        "        scores[i, c] gives the score of class c for X[i].\n",
        "\n",
        "      If y is not None, run a training time forward and backward pass and\n",
        "      return a tuple of:\n",
        "      - loss: Scalar giving the loss\n",
        "      - grads: Dictionary with the same keys as self.params mapping parameter\n",
        "        names to gradients of the loss with respect to those parameters.\n",
        "    \"\"\"\n",
        "\n",
        "    def __init__(self, model, data, **kwargs):\n",
        "        \"\"\"\n",
        "        Construct a new Solver instance.\n",
        "\n",
        "        Required arguments:\n",
        "        - model: A model object conforming to the API described above\n",
        "        - data: A dictionary of training and validation data containing:\n",
        "          'X_train': Array, shape (N_train, d_1, ..., d_k) of training images\n",
        "          'X_val': Array, shape (N_val, d_1, ..., d_k) of validation images\n",
        "          'y_train': Array, shape (N_train,) of labels for training images\n",
        "          'y_val': Array, shape (N_val,) of labels for validation images\n",
        "\n",
        "        Optional arguments:\n",
        "        - update_rule: A string giving the name of an update rule in optim.py.\n",
        "          Default is 'sgd'.\n",
        "        - optim_config: A dictionary containing hyperparameters that will be\n",
        "          passed to the chosen update rule. Each update rule requires different\n",
        "          hyperparameters (see optim.py) but all update rules require a\n",
        "          'learning_rate' parameter so that should always be present.\n",
        "        - lr_decay: A scalar for learning rate decay; after each epoch the\n",
        "          learning rate is multiplied by this value.\n",
        "        - batch_size: Size of minibatches used to compute loss and gradient\n",
        "          during training.\n",
        "        - num_epochs: The number of epochs to run for during training.\n",
        "        - print_every: Integer; training losses will be printed every\n",
        "          print_every iterations.\n",
        "        - verbose: Boolean; if set to false then no output will be printed\n",
        "          during training.\n",
        "        - num_train_samples: Number of training samples used to check training\n",
        "          accuracy; default is 1000; set to None to use entire training set.\n",
        "        - num_val_samples: Number of validation samples to use to check val\n",
        "          accuracy; default is None, which uses the entire validation set.\n",
        "        - checkpoint_name: If not None, then save model checkpoints here every\n",
        "          epoch.\n",
        "        \"\"\"\n",
        "        self.model = model\n",
        "        self.X_train = data['X_train']\n",
        "        self.y_train = data['y_train']\n",
        "        self.X_val = data['X_val']\n",
        "        self.y_val = data['y_val']\n",
        "\n",
        "        # Unpack keyword arguments\n",
        "        self.update_rule = kwargs.pop('update_rule', 'sgd')\n",
        "        self.optim_config = kwargs.pop('optim_config', {})\n",
        "        self.lr_decay = kwargs.pop('lr_decay', 1.0)\n",
        "        self.batch_size = kwargs.pop('batch_size', 100)\n",
        "        self.num_epochs = kwargs.pop('num_epochs', 10)\n",
        "        self.num_train_samples = kwargs.pop('num_train_samples', 1000)\n",
        "        self.num_val_samples = kwargs.pop('num_val_samples', None)\n",
        "\n",
        "        self.checkpoint_name = kwargs.pop('checkpoint_name', None)\n",
        "        self.print_every = kwargs.pop('print_every', 10)\n",
        "        self.verbose = kwargs.pop('verbose', True)\n",
        "\n",
        "        # Throw an error if there are extra keyword arguments\n",
        "        if len(kwargs) > 0:\n",
        "            extra = ', '.join('\"%s\"' % k for k in list(kwargs.keys()))\n",
        "            raise ValueError('Unrecognized arguments %s' % extra)\n",
        "\n",
        "        # Make sure the update rule exists, then replace the string\n",
        "        # name with the actual function\n",
        "        print('update_rule', self.update_rule)\n",
        "        if self.update_rule not in globals():\n",
        "            raise ValueError('Invalid update_rule \"%s\"' % self.update_rule)\n",
        "        self.update_rule = globals()[self.update_rule]\n",
        "\n",
        "        self._reset()\n",
        "\n",
        "\n",
        "    def _reset(self):\n",
        "        \"\"\"\n",
        "        Set up some book-keeping variables for optimization. Don't call this\n",
        "        manually.\n",
        "        \"\"\"\n",
        "        # Set up some variables for book-keeping\n",
        "        self.epoch = 0\n",
        "        self.best_val_acc = 0\n",
        "        self.best_params = {}\n",
        "        self.loss_history = []\n",
        "        self.train_acc_history = []\n",
        "        self.val_acc_history = []\n",
        "\n",
        "        # Make a deep copy of the optim_config for each parameter\n",
        "        self.optim_configs = {}\n",
        "        for p in self.model.params:\n",
        "            d = {k: v for k, v in self.optim_config.items()}\n",
        "            self.optim_configs[p] = d\n",
        "\n",
        "\n",
        "    def _step(self):\n",
        "        \"\"\"\n",
        "        Make a single gradient update. This is called by train() and should not\n",
        "        be called manually.\n",
        "        \"\"\"\n",
        "        # Make a minibatch of training data\n",
        "        num_train = self.X_train.shape[0]\n",
        "        batch_mask = np.random.choice(num_train, self.batch_size)\n",
        "        X_batch = self.X_train[batch_mask]\n",
        "        y_batch = self.y_train[batch_mask]\n",
        "\n",
        "        # Compute loss and gradient\n",
        "        loss, grads = self.model.loss(X_batch, y_batch)\n",
        "        self.loss_history.append(loss)\n",
        "\n",
        "        # Perform a parameter update\n",
        "        for p, w in self.model.params.items():\n",
        "            dw = grads[p]\n",
        "            config = self.optim_configs[p]\n",
        "            next_w, next_config = self.update_rule(w, dw, config)\n",
        "            self.model.params[p] = next_w\n",
        "            self.optim_configs[p] = next_config\n",
        "\n",
        "\n",
        "    def _save_checkpoint(self):\n",
        "        if self.checkpoint_name is None: return\n",
        "        checkpoint = {\n",
        "          'model': self.model,\n",
        "          'update_rule': self.update_rule,\n",
        "          'lr_decay': self.lr_decay,\n",
        "          'optim_config': self.optim_config,\n",
        "          'batch_size': self.batch_size,\n",
        "          'num_train_samples': self.num_train_samples,\n",
        "          'num_val_samples': self.num_val_samples,\n",
        "          'epoch': self.epoch,\n",
        "          'loss_history': self.loss_history,\n",
        "          'train_acc_history': self.train_acc_history,\n",
        "          'val_acc_history': self.val_acc_history,\n",
        "        }\n",
        "        filename = '%s_epoch_%d.pkl' % (self.checkpoint_name, self.epoch)\n",
        "        if self.verbose:\n",
        "            print('Saving checkpoint to \"%s\"' % filename)\n",
        "        with open(filename, 'wb') as f:\n",
        "            pickle.dump(checkpoint, f)\n",
        "\n",
        "\n",
        "    def check_accuracy(self, X, y, num_samples=None, batch_size=100):\n",
        "        \"\"\"\n",
        "        Check accuracy of the model on the provided data.\n",
        "\n",
        "        Inputs:\n",
        "        - X: Array of data, of shape (N, d_1, ..., d_k)\n",
        "        - y: Array of labels, of shape (N,)\n",
        "        - num_samples: If not None, subsample the data and only test the model\n",
        "          on num_samples datapoints.\n",
        "        - batch_size: Split X and y into batches of this size to avoid using\n",
        "          too much memory.\n",
        "\n",
        "        Returns:\n",
        "        - acc: Scalar giving the fraction of instances that were correctly\n",
        "          classified by the model.\n",
        "        \"\"\"\n",
        "\n",
        "        # Maybe subsample the data\n",
        "        N = X.shape[0]\n",
        "        if num_samples is not None and N > num_samples:\n",
        "            mask = np.random.choice(N, num_samples)\n",
        "            N = num_samples\n",
        "            X = X[mask]\n",
        "            y = y[mask]\n",
        "\n",
        "        # Compute predictions in batches\n",
        "        num_batches = N // batch_size\n",
        "        if N % batch_size != 0:\n",
        "            num_batches += 1\n",
        "        y_pred = []\n",
        "        for i in range(num_batches):\n",
        "            start = i * batch_size\n",
        "            end = (i + 1) * batch_size\n",
        "            scores = self.model.loss(X[start:end])\n",
        "            y_pred.append(np.argmax(scores, axis=1))\n",
        "        y_pred = np.hstack(y_pred)\n",
        "        acc = np.mean(y_pred == y)\n",
        "\n",
        "        return acc\n",
        "\n",
        "\n",
        "    def train(self):\n",
        "        \"\"\"\n",
        "        Run optimization to train the model.\n",
        "        \"\"\"\n",
        "        num_train = self.X_train.shape[0]\n",
        "        iterations_per_epoch = max(num_train // self.batch_size, 1)\n",
        "        num_iterations = self.num_epochs * iterations_per_epoch\n",
        "\n",
        "        for t in range(num_iterations):\n",
        "            self._step()\n",
        "\n",
        "            # Maybe print training loss\n",
        "            if self.verbose and t % self.print_every == 0:\n",
        "                print('(Iteration %d / %d) loss: %f' % (\n",
        "                       t + 1, num_iterations, self.loss_history[-1]))\n",
        "\n",
        "            # At the end of every epoch, increment the epoch counter and decay\n",
        "            # the learning rate.\n",
        "            epoch_end = (t + 1) % iterations_per_epoch == 0\n",
        "            if epoch_end:\n",
        "                self.epoch += 1\n",
        "                for k in self.optim_configs:\n",
        "                    self.optim_configs[k]['learning_rate'] *= self.lr_decay\n",
        "\n",
        "            # Check train and val accuracy on the first iteration, the last\n",
        "            # iteration, and at the end of each epoch.\n",
        "            first_it = (t == 0)\n",
        "            last_it = (t == num_iterations - 1)\n",
        "            if first_it or last_it or epoch_end:\n",
        "                train_acc = self.check_accuracy(self.X_train, self.y_train,\n",
        "                    num_samples=self.num_train_samples)\n",
        "                val_acc = self.check_accuracy(self.X_val, self.y_val,\n",
        "                    num_samples=self.num_val_samples)\n",
        "                self.train_acc_history.append(train_acc)\n",
        "                self.val_acc_history.append(val_acc)\n",
        "                self._save_checkpoint()\n",
        "\n",
        "                if self.verbose:\n",
        "                    print('(Epoch %d / %d) train acc: %f; val_acc: %f' % (\n",
        "                           self.epoch, self.num_epochs, train_acc, val_acc))\n",
        "\n",
        "                # Keep track of the best model\n",
        "                if val_acc > self.best_val_acc:\n",
        "                    self.best_val_acc = val_acc\n",
        "                    self.best_params = {}\n",
        "                    for k, v in self.model.params.items():\n",
        "                        self.best_params[k] = v.copy()\n",
        "\n",
        "        # At the end of training swap the best params into the model\n",
        "        self.model.params = self.best_params\n"
      ],
      "execution_count": 0,
      "outputs": []
    },
    {
      "metadata": {
        "id": "cqNdlkhu16tU",
        "colab_type": "code",
        "colab": {
          "base_uri": "https://localhost:8080/",
          "height": 687
        },
        "outputId": "7c113310-11a4-4c36-d4b2-09f35a69008b"
      },
      "cell_type": "code",
      "source": [
        "model = TwoLayerNet()\n",
        "data = {'X_train': X_train, \n",
        "        'y_train': y_train,\n",
        "        'X_val': X_val,\n",
        "        'y_val': y_val}\n",
        "\n",
        "##############################################################################\n",
        "# TODO: Use a Solver instance to train a TwoLayerNet that achieves at least  #\n",
        "# 50% accuracy on the validation set.                                        #\n",
        "##############################################################################\n",
        "solver = Solver(model, data,\n",
        "    update_rule='sgd',\n",
        "    optim_config={\n",
        "    'learning_rate': 1e-3,\n",
        "    },\n",
        "    lr_decay=0.8,\n",
        "    num_epochs=10, batch_size=100,\n",
        "    print_every=400)\n",
        "solver.train()\n",
        "scores = model.loss(data['X_val'])\n",
        "y_pred = np.argmax(scores, axis = 1)\n",
        "acc = np.mean(y_pred == data['y_val'])\n",
        "print (f'validation accuracy: {acc}')\n",
        "##############################################################################\n",
        "#                             END OF YOUR CODE                               #\n",
        "##############################################################################"
      ],
      "execution_count": 22,
      "outputs": [
        {
          "output_type": "stream",
          "text": [
            "update_rule sgd\n",
            "(Iteration 1 / 4900) loss: 2.302176\n",
            "(Epoch 0 / 10) train acc: 0.122000; val_acc: 0.113000\n",
            "(Iteration 401 / 4900) loss: 1.417471\n",
            "(Epoch 1 / 10) train acc: 0.412000; val_acc: 0.426000\n",
            "(Iteration 801 / 4900) loss: 1.666641\n",
            "(Epoch 2 / 10) train acc: 0.500000; val_acc: 0.476000\n",
            "(Iteration 1201 / 4900) loss: 1.620852\n",
            "(Epoch 3 / 10) train acc: 0.525000; val_acc: 0.474000\n",
            "(Iteration 1601 / 4900) loss: 1.246873\n",
            "(Epoch 4 / 10) train acc: 0.553000; val_acc: 0.506000\n",
            "(Iteration 2001 / 4900) loss: 1.315534\n",
            "(Iteration 2401 / 4900) loss: 1.252897\n",
            "(Epoch 5 / 10) train acc: 0.565000; val_acc: 0.510000\n",
            "(Iteration 2801 / 4900) loss: 1.224676\n",
            "(Epoch 6 / 10) train acc: 0.549000; val_acc: 0.511000\n",
            "(Iteration 3201 / 4900) loss: 1.204197\n",
            "(Epoch 7 / 10) train acc: 0.568000; val_acc: 0.515000\n",
            "(Iteration 3601 / 4900) loss: 1.012210\n",
            "(Epoch 8 / 10) train acc: 0.598000; val_acc: 0.512000\n",
            "(Iteration 4001 / 4900) loss: 1.224039\n",
            "(Iteration 4401 / 4900) loss: 1.334599\n",
            "(Epoch 9 / 10) train acc: 0.611000; val_acc: 0.526000\n",
            "(Iteration 4801 / 4900) loss: 1.028183\n",
            "(Epoch 10 / 10) train acc: 0.613000; val_acc: 0.533000\n",
            "validation accuracy: 0.533\n"
          ],
          "name": "stdout"
        }
      ]
    },
    {
      "metadata": {
        "id": "vNOTTL6douZW",
        "colab_type": "text"
      },
      "cell_type": "markdown",
      "source": [
        "Run this cell to visualize training loss and training and validation accuracies"
      ]
    },
    {
      "metadata": {
        "id": "3wWoIxLs16tW",
        "colab_type": "code",
        "colab": {
          "base_uri": "https://localhost:8080/",
          "height": 869
        },
        "outputId": "d854f87a-37c4-4fe5-c5ac-38f89dca22c1"
      },
      "cell_type": "code",
      "source": [
        "plt.subplot(2, 1, 1)\n",
        "plt.title('Training loss')\n",
        "plt.plot(solver.loss_history, 'o')\n",
        "plt.xlabel('Iteration')\n",
        "\n",
        "plt.subplot(2, 1, 2)\n",
        "plt.title('Accuracy')\n",
        "plt.plot(solver.train_acc_history, '-o', label='train')\n",
        "plt.plot(solver.val_acc_history, '-o', label='val')\n",
        "plt.plot([0.5] * len(solver.val_acc_history), 'k--')\n",
        "plt.xlabel('Epoch')\n",
        "plt.legend(loc='lower right')\n",
        "plt.gcf().set_size_inches(15, 12)\n",
        "plt.show()"
      ],
      "execution_count": 23,
      "outputs": [
        {
          "output_type": "display_data",
          "data": {
            "image/png": "[encoded data removed]",
            "text/plain": [
              "<matplotlib.figure.Figure at 0x7fd85cb220f0>"
            ]
          },
          "metadata": {
            "tags": []
          }
        }
      ]
    },
    {
      "metadata": {
        "id": "OKW5Ed1k16tZ",
        "colab_type": "text"
      },
      "cell_type": "markdown",
      "source": [
        "# Multilayer network\n",
        "Next you will implement a fully-connected network with an arbitrary number of hidden layers.\n",
        "\n",
        "Read through the `FullyConnectedNet` class below and implement the initialization, the forward pass, and the backward pass. For the moment don't worry about implementing batch normalization or dropout; we will add those features soon."
      ]
    },
    {
      "metadata": {
        "id": "9dgQeZYVn8iR",
        "colab_type": "code",
        "colab": {}
      },
      "cell_type": "code",
      "source": [
        "class FullyConnectedNet(object):\n",
        "    \"\"\"\n",
        "    A fully-connected neural network with an arbitrary number of hidden layers,\n",
        "    ReLU nonlinearities, and a softmax loss function. This will also implement\n",
        "    dropout and batch normalization as options. For a network with L layers,\n",
        "    the architecture will be\n",
        "\n",
        "    {affine - [batchnorm] - relu - [dropout]} x (L - 1) - affine - softmax\n",
        "\n",
        "    where batch normalization and dropout are optional, and the {...} block is\n",
        "    repeated L - 1 times.\n",
        "\n",
        "    Similar to the TwoLayerNet above, learnable parameters are stored in the\n",
        "    self.params dictionary and will be learned using the Solver class.\n",
        "    \"\"\"\n",
        "\n",
        "    def __init__(self, hidden_dims, input_dim=3*32*32, num_classes=10,\n",
        "                 dropout=1, batchnorm=False, reg=0.0,\n",
        "                 weight_scale=1e-2, dtype=np.float32, seed=None):\n",
        "        \"\"\"\n",
        "        Initialize a new FullyConnectedNet.\n",
        "\n",
        "        Inputs:\n",
        "        - hidden_dims: A list of integers giving the size of each hidden layer.\n",
        "        - input_dim: An integer giving the size of the input.\n",
        "        - num_classes: An integer giving the number of classes to classify.\n",
        "        - dropout: Scalar between 0 and 1 giving dropout strength. If dropout=1 then\n",
        "          the network should not use dropout at all.\n",
        "        - batchnorm: Include batch normalization if True.\n",
        "        - reg: Scalar giving L2 regularization strength.\n",
        "        - weight_scale: Scalar giving the standard deviation for random\n",
        "          initialization of the weights.\n",
        "        - dtype: A numpy datatype object; all computations will be performed using\n",
        "          this datatype. float32 is faster but less accurate, so you should use\n",
        "          float64 for numeric gradient checking.\n",
        "        - seed: If not None, then pass this random seed to the dropout layers. This\n",
        "          will make the dropout layers deteriminstic so we can gradient check the\n",
        "          model.\n",
        "        \"\"\"\n",
        "        self.batchnorm = batchnorm\n",
        "        self.use_dropout = dropout != 1\n",
        "        self.reg = reg\n",
        "        self.num_layers = 1 + len(hidden_dims)\n",
        "        self.dtype = dtype\n",
        "        self.params = {}\n",
        "\n",
        "        ############################################################################\n",
        "        # TODO: Initialize the parameters of the network, storing all values in    #\n",
        "        # the self.params dictionary. Store weights and biases for the first layer #\n",
        "        # in W1 and b1; for the second layer use W2 and b2, etc. Weights should be #\n",
        "        # initialized from a normal distribution centered at 0 with standard       #\n",
        "        # deviation equal to weight_scale. Biases should be initialized to zero.   #\n",
        "        #                                                                          #\n",
        "        # When using batch normalization, store scale and shift parameters for the #\n",
        "        # first layer in gamma1 and beta1; for the second layer use gamma2 and     #\n",
        "        # beta2, etc. Scale parameters should be initialized to ones and shift     #\n",
        "        # parameters should be initialized to zeros.                               #\n",
        "        ############################################################################\n",
        "        prev_dim = input_dim\n",
        "        for idx, dim in enumerate(hidden_dims):\n",
        "          self.params[f'W{idx+1}'] = np.random.normal(0, weight_scale, (prev_dim, hidden_dims[idx]))\n",
        "          self.params[f'b{idx+1}'] = np.zeros(hidden_dims[idx])\n",
        "          prev_dim = hidden_dims[idx]\n",
        "        self.params[f'W{self.num_layers}'] = np.random.normal(0, weight_scale, (prev_dim, num_classes))\n",
        "        self.params[f'b{self.num_layers}'] = np.zeros(num_classes)\n",
        "        ############################################################################\n",
        "        #                             END OF YOUR CODE                             #\n",
        "        ############################################################################\n",
        "\n",
        "        # When using dropout we need to pass a dropout_param dictionary to each\n",
        "        # dropout layer so that the layer knows the dropout probability and the mode\n",
        "        # (train / test). You can pass the same dropout_param to each dropout layer.\n",
        "        self.dropout_param = {}\n",
        "        if self.use_dropout:\n",
        "            self.dropout_param = {'mode': 'train', 'p': dropout}\n",
        "            if seed is not None:\n",
        "                self.dropout_param['seed'] = seed\n",
        "\n",
        "        # With batch normalization we need to keep track of running means and\n",
        "        # variances, so we need to pass a special bn_param object to each batch\n",
        "        # normalization layer. You should pass self.bn_params[0] to the forward pass\n",
        "        # of the first batch normalization layer, self.bn_params[1] to the forward\n",
        "        # pass of the second batch normalization layer, etc.\n",
        "        self.bn_params = []\n",
        "        if self.batchnorm:\n",
        "            self.bn_params = [{'mode': 'train'} for i in range(self.num_layers - 1)]\n",
        "\n",
        "        # Cast all parameters to the correct datatype\n",
        "        for k, v in self.params.items():\n",
        "            self.params[k] = v.astype(dtype)\n",
        "\n",
        "\n",
        "    def loss(self, X, y=None):\n",
        "        \"\"\"\n",
        "        Compute loss and gradient for the fully-connected net.\n",
        "\n",
        "        Input / output: Same as TwoLayerNet above.\n",
        "        \"\"\"\n",
        "        X = X.astype(self.dtype)\n",
        "        mode = 'test' if y is None else 'train'\n",
        "\n",
        "        # Set train/test mode for batchnorm params and dropout param since they\n",
        "        # behave differently during training and testing.\n",
        "        if self.use_dropout:\n",
        "            self.dropout_param['mode'] = mode\n",
        "        if self.batchnorm:\n",
        "            for bn_param in self.bn_params:\n",
        "                bn_param['mode'] = mode\n",
        "        scores = None\n",
        "        ############################################################################\n",
        "        # TODO: Implement the forward pass for the fully-connected net, computing  #\n",
        "        # the class scores for X and storing them in the scores variable.          #\n",
        "        #                                                                          #\n",
        "        # When using dropout, you'll need to pass self.dropout_param to each       #\n",
        "        # dropout forward pass.                                                    #\n",
        "        #                                                                          #\n",
        "        # When using batch normalization, you'll need to pass self.bn_params[0] to #\n",
        "        # the forward pass for the first batch normalization layer, pass           #\n",
        "        # self.bn_params[1] to the forward pass for the second batch normalization #\n",
        "        # layer, etc.                                                              #\n",
        "        ############################################################################\n",
        "        cache = {}\n",
        "        layer_input = X\n",
        "        for i in range(1, self.num_layers):\n",
        "          b,w = self.params[f'b{i}'], self.params[f'W{i}']\n",
        "          cache[f'ar{i}_out'], cache[f'ar{i}_cache'] = affine_relu_forward(layer_input, w, b)\n",
        "          layer_input = cache[f'ar{i}_out']\n",
        "          \n",
        "        b,w = self.params[f'b{self.num_layers}'], self.params[f'W{self.num_layers}']\n",
        "        cache[f'a{self.num_layers}_out'], cache[f'a{self.num_layers}_cache'] = affine_forward(layer_input, w, b)\n",
        "        scores = cache[f'a{self.num_layers}_out']\n",
        "        ############################################################################\n",
        "        #                             END OF YOUR CODE                             #\n",
        "        ############################################################################\n",
        "\n",
        "        # If test mode return early\n",
        "        if mode == 'test':\n",
        "            return scores\n",
        "\n",
        "        loss, grads = 0.0, {}\n",
        "        ############################################################################\n",
        "        # TODO: Implement the backward pass for the fully-connected net. Store the #\n",
        "        # loss in the loss variable and gradients in the grads dictionary. Compute #\n",
        "        # data loss using softmax, and make sure that grads[k] holds the gradients #\n",
        "        # for self.params[k]. Don't forget to add L2 regularization!               #\n",
        "        #                                                                          #\n",
        "        # When using batch normalization, you don't need to regularize the scale   #\n",
        "        # and shift parameters.                                                    #\n",
        "        #                                                                          #\n",
        "        # NOTE: To ensure that your implementation matches ours and you pass the   #\n",
        "        # automated tests, make sure that your L2 regularization includes a factor #\n",
        "        # of 0.5 to simplify the expression for the gradient.                      #\n",
        "        ############################################################################\n",
        "        loss, dout = softmax_loss(scores, y)\n",
        "        \n",
        "        for i in range(self.num_layers, 0, -1):\n",
        "          b, w = self.params[f'b{i}'], self.params[f'W{i}']\n",
        "          loss += 0.5 * self.reg * np.sum(w*w)\n",
        "          if i == self.num_layers:\n",
        "            dout, dw, grads[f'b{i}'] = affine_backward(dout, cache[f'a{i}_cache'])\n",
        "          else:\n",
        "            dout, dw, grads[f'b{i}'] = affine_relu_backward(dout, cache[f'ar{i}_cache'])\n",
        "          grads[f'W{i}'] = dw + self.reg * self.params[f'W{i}']\n",
        "        ############################################################################\n",
        "        #                             END OF YOUR CODE                             #\n",
        "        ############################################################################\n",
        "\n",
        "        return loss, grads"
      ],
      "execution_count": 0,
      "outputs": []
    },
    {
      "metadata": {
        "id": "0D40DA3916td",
        "colab_type": "text"
      },
      "cell_type": "markdown",
      "source": [
        "## Initial loss and gradient check"
      ]
    },
    {
      "metadata": {
        "id": "AoeDD5w016te",
        "colab_type": "text"
      },
      "cell_type": "markdown",
      "source": [
        "As a sanity check, run the following to check the initial loss and to gradient check the network both with and without regularization. Do the initial losses seem reasonable?\n",
        "\n",
        "For gradient checking, you should expect to see errors around 1e-7 or less."
      ]
    },
    {
      "metadata": {
        "id": "wMw3TM7F16tf",
        "colab_type": "code",
        "colab": {
          "base_uri": "https://localhost:8080/",
          "height": 342
        },
        "outputId": "30d826a9-be49-4e3b-f081-1d0ebd14c41f"
      },
      "cell_type": "code",
      "source": [
        "np.random.seed(231)\n",
        "N, D, H1, H2, C = 2, 15, 20, 30, 10\n",
        "X = np.random.randn(N, D)\n",
        "y = np.random.randint(C, size=(N,))\n",
        "\n",
        "for reg in [0, 3.14]:\n",
        "  print('Running check with reg = ', reg)\n",
        "  model = FullyConnectedNet([H1, H2], input_dim=D, num_classes=C,\n",
        "                            reg=reg, weight_scale=5e-2, dtype=np.float64)\n",
        "\n",
        "  loss, grads = model.loss(X, y)\n",
        "  print('Initial loss: ', loss)\n",
        "  \n",
        "  # Most of the errors should be on the order of e-7 or smaller.   \n",
        "  # NOTE: It is fine however to see an error for W2 on the order of e-5\n",
        "  # for the check when reg = 0.0\n",
        "  for name in sorted(grads):\n",
        "    f = lambda _: model.loss(X, y)[0]\n",
        "    grad_num = eval_numerical_gradient(f, model.params[name], verbose=False, h=1e-5)\n",
        "    print('%s relative error: %.2e' % (name, rel_error(grad_num, grads[name])))"
      ],
      "execution_count": 47,
      "outputs": [
        {
          "output_type": "stream",
          "text": [
            "Running check with reg =  0\n",
            "Initial loss:  2.3004790897684924\n",
            "W1 relative error: 1.48e-07\n",
            "W2 relative error: 2.21e-05\n",
            "W3 relative error: 3.53e-07\n",
            "b1 relative error: 5.38e-09\n",
            "b2 relative error: 2.09e-09\n",
            "b3 relative error: 5.80e-11\n",
            "Running check with reg =  3.14\n",
            "Initial loss:  7.052114776533016\n",
            "W1 relative error: 7.36e-09\n",
            "W2 relative error: 6.87e-08\n",
            "W3 relative error: 3.48e-08\n",
            "b1 relative error: 1.48e-08\n",
            "b2 relative error: 1.72e-09\n",
            "b3 relative error: 1.80e-10\n"
          ],
          "name": "stdout"
        }
      ]
    },
    {
      "metadata": {
        "id": "tr0VOCE-16th",
        "colab_type": "text"
      },
      "cell_type": "markdown",
      "source": [
        "As another sanity check, make sure you can overfit a small dataset of 50 images. First we will try a three-layer network with 100 units in each hidden layer. In the following cell, tweak the learning rate and initialization scale to overfit and achieve 100% training accuracy within 20 epochs."
      ]
    },
    {
      "metadata": {
        "id": "YBkh8M_716ti",
        "colab_type": "code",
        "colab": {
          "base_uri": "https://localhost:8080/",
          "height": 846
        },
        "outputId": "72f2a978-0219-446f-b220-e8483a1aa9d0"
      },
      "cell_type": "code",
      "source": [
        "# TODO: Use a three-layer Net to overfit 50 training examples by \n",
        "# tweaking just the learning rate and initialization scale.\n",
        "\n",
        "num_train = 50\n",
        "small_data = {\n",
        "  'X_train': data['X_train'][:num_train],\n",
        "  'y_train': data['y_train'][:num_train],\n",
        "  'X_val': data['X_val'],\n",
        "  'y_val': data['y_val'],\n",
        "}\n",
        "\n",
        "# weight_scale = 1e-2\n",
        "# learning_rate = 1e-4\n",
        "weight_scale = 1e-1\n",
        "learning_rate = 1e-4\n",
        "model = FullyConnectedNet([100, 100],\n",
        "              weight_scale=weight_scale, dtype=np.float64)\n",
        "solver = Solver(model, small_data,\n",
        "                print_every=10, num_epochs=20, batch_size=25,\n",
        "                update_rule='sgd',\n",
        "                optim_config={\n",
        "                  'learning_rate': learning_rate,\n",
        "                }\n",
        "         )\n",
        "solver.train()\n",
        "\n",
        "plt.plot(solver.loss_history, 'o')\n",
        "plt.title('Training loss history')\n",
        "plt.xlabel('Iteration')\n",
        "plt.ylabel('Training loss')\n",
        "plt.show()"
      ],
      "execution_count": 50,
      "outputs": [
        {
          "output_type": "stream",
          "text": [
            "update_rule sgd\n",
            "(Iteration 1 / 40) loss: 240.542703\n",
            "(Epoch 0 / 20) train acc: 0.120000; val_acc: 0.098000\n",
            "(Epoch 1 / 20) train acc: 0.140000; val_acc: 0.106000\n",
            "(Epoch 2 / 20) train acc: 0.360000; val_acc: 0.114000\n",
            "(Epoch 3 / 20) train acc: 0.400000; val_acc: 0.134000\n",
            "(Epoch 4 / 20) train acc: 0.440000; val_acc: 0.129000\n",
            "(Epoch 5 / 20) train acc: 0.520000; val_acc: 0.136000\n",
            "(Iteration 11 / 40) loss: 52.353647\n",
            "(Epoch 6 / 20) train acc: 0.540000; val_acc: 0.141000\n",
            "(Epoch 7 / 20) train acc: 0.660000; val_acc: 0.136000\n",
            "(Epoch 8 / 20) train acc: 0.620000; val_acc: 0.132000\n",
            "(Epoch 9 / 20) train acc: 0.740000; val_acc: 0.138000\n",
            "(Epoch 10 / 20) train acc: 0.780000; val_acc: 0.143000\n",
            "(Iteration 21 / 40) loss: 14.613456\n",
            "(Epoch 11 / 20) train acc: 0.820000; val_acc: 0.148000\n",
            "(Epoch 12 / 20) train acc: 0.760000; val_acc: 0.146000\n",
            "(Epoch 13 / 20) train acc: 0.820000; val_acc: 0.145000\n",
            "(Epoch 14 / 20) train acc: 0.840000; val_acc: 0.145000\n",
            "(Epoch 15 / 20) train acc: 0.840000; val_acc: 0.143000\n",
            "(Iteration 31 / 40) loss: 8.320900\n",
            "(Epoch 16 / 20) train acc: 0.940000; val_acc: 0.145000\n",
            "(Epoch 17 / 20) train acc: 0.920000; val_acc: 0.143000\n",
            "(Epoch 18 / 20) train acc: 0.940000; val_acc: 0.143000\n",
            "(Epoch 19 / 20) train acc: 0.980000; val_acc: 0.143000\n",
            "(Epoch 20 / 20) train acc: 0.940000; val_acc: 0.147000\n"
          ],
          "name": "stdout"
        },
        {
          "output_type": "display_data",
          "data": {
            "image/png": "[encoded data removed]",
            "text/plain": [
              "<matplotlib.figure.Figure at 0x7fd857de7390>"
            ]
          },
          "metadata": {
            "tags": []
          }
        }
      ]
    },
    {
      "metadata": {
        "id": "Wgf48kpe16tk",
        "colab_type": "text"
      },
      "cell_type": "markdown",
      "source": [
        "Now try to use a five-layer network with 100 units on each layer to overfit 50 training examples. Again you will have to adjust the learning rate and weight initialization, but you should be able to achieve 100% training accuracy within 20 epochs."
      ]
    },
    {
      "metadata": {
        "id": "-3_9xMrn16tl",
        "colab_type": "code",
        "colab": {
          "base_uri": "https://localhost:8080/",
          "height": 846
        },
        "outputId": "9b71c9f6-86a2-4c59-95d4-7e4a2bdaf645"
      },
      "cell_type": "code",
      "source": [
        "# TODO: Use a five-layer Net to overfit 50 training examples by \n",
        "# tweaking just the learning rate and initialization scale.\n",
        "\n",
        "num_train = 50\n",
        "small_data = {\n",
        "  'X_train': data['X_train'][:num_train],\n",
        "  'y_train': data['y_train'][:num_train],\n",
        "  'X_val': data['X_val'],\n",
        "  'y_val': data['y_val'],\n",
        "}\n",
        "\n",
        "# learning_rate = 2e-3\n",
        "# weight_scale = 1e-5\n",
        "learning_rate = 2e-3\n",
        "weight_scale = 1e-1\n",
        "model = FullyConnectedNet([100, 100, 100, 100],\n",
        "                weight_scale=weight_scale, dtype=np.float64)\n",
        "solver = Solver(model, small_data,\n",
        "                print_every=10, num_epochs=20, batch_size=25,\n",
        "                update_rule='sgd',\n",
        "                optim_config={\n",
        "                  'learning_rate': learning_rate,\n",
        "                }\n",
        "         )\n",
        "solver.train()\n",
        "\n",
        "plt.plot(solver.loss_history, 'o')\n",
        "plt.title('Training loss history')\n",
        "plt.xlabel('Iteration')\n",
        "plt.ylabel('Training loss')\n",
        "plt.show()"
      ],
      "execution_count": 49,
      "outputs": [
        {
          "output_type": "stream",
          "text": [
            "update_rule sgd\n",
            "(Iteration 1 / 40) loss: 156.439663\n",
            "(Epoch 0 / 20) train acc: 0.140000; val_acc: 0.076000\n",
            "(Epoch 1 / 20) train acc: 0.300000; val_acc: 0.086000\n",
            "(Epoch 2 / 20) train acc: 0.200000; val_acc: 0.111000\n",
            "(Epoch 3 / 20) train acc: 0.480000; val_acc: 0.123000\n",
            "(Epoch 4 / 20) train acc: 0.560000; val_acc: 0.124000\n",
            "(Epoch 5 / 20) train acc: 0.760000; val_acc: 0.137000\n",
            "(Iteration 11 / 40) loss: 1.992651\n",
            "(Epoch 6 / 20) train acc: 0.820000; val_acc: 0.142000\n",
            "(Epoch 7 / 20) train acc: 0.940000; val_acc: 0.136000\n",
            "(Epoch 8 / 20) train acc: 0.940000; val_acc: 0.138000\n",
            "(Epoch 9 / 20) train acc: 0.960000; val_acc: 0.137000\n",
            "(Epoch 10 / 20) train acc: 0.940000; val_acc: 0.140000\n",
            "(Iteration 21 / 40) loss: 0.630378\n",
            "(Epoch 11 / 20) train acc: 0.980000; val_acc: 0.137000\n",
            "(Epoch 12 / 20) train acc: 0.980000; val_acc: 0.134000\n",
            "(Epoch 13 / 20) train acc: 0.980000; val_acc: 0.133000\n",
            "(Epoch 14 / 20) train acc: 0.980000; val_acc: 0.136000\n",
            "(Epoch 15 / 20) train acc: 0.980000; val_acc: 0.134000\n",
            "(Iteration 31 / 40) loss: 0.009913\n",
            "(Epoch 16 / 20) train acc: 0.980000; val_acc: 0.132000\n",
            "(Epoch 17 / 20) train acc: 1.000000; val_acc: 0.133000\n",
            "(Epoch 18 / 20) train acc: 1.000000; val_acc: 0.135000\n",
            "(Epoch 19 / 20) train acc: 1.000000; val_acc: 0.135000\n",
            "(Epoch 20 / 20) train acc: 1.000000; val_acc: 0.135000\n"
          ],
          "name": "stdout"
        },
        {
          "output_type": "display_data",
          "data": {
            "image/png": "[encoded data removed]",
            "text/plain": [
              "<matplotlib.figure.Figure at 0x7fd857e93f28>"
            ]
          },
          "metadata": {
            "tags": []
          }
        }
      ]
    },
    {
      "metadata": {
        "id": "jTMxRigW16to",
        "colab_type": "text"
      },
      "cell_type": "markdown",
      "source": [
        "## Inline Question 2: \n",
        "Did you notice anything about the comparative difficulty of training the three-layer net vs training the five layer net? In particular, based on your experience, which network seemed more sensitive to the initialization scale? Why do you think that is the case?"
      ]
    },
    {
      "metadata": {
        "id": "vBBrMe5w16tp",
        "colab_type": "text"
      },
      "cell_type": "markdown",
      "source": [
        "## Answer:\n",
        "[FILL THIS IN]\n"
      ]
    },
    {
      "metadata": {
        "id": "fUS5QycC16tp",
        "colab_type": "text"
      },
      "cell_type": "markdown",
      "source": [
        "# Update rules\n",
        "So far we have used vanilla stochastic gradient descent (SGD) as our update rule. More sophisticated update rules can make it easier to train deep networks. We will implement a few of the most commonly used update rules and compare them to vanilla SGD."
      ]
    },
    {
      "metadata": {
        "id": "fnlQAdm_16tq",
        "colab_type": "text"
      },
      "cell_type": "markdown",
      "source": [
        "# SGD+Momentum\n",
        "Stochastic gradient descent with momentum is a widely used update rule that tends to make deep networks converge faster than vanilla stochastic gradient descent. See the Momentum Update section at http://cs231n.github.io/neural-networks-3/#sgd for more information.\n",
        "\n",
        "Implement the SGD+momentum update rule in the function `sgd_momentum` below and run the following to check your implementation. You should see errors less than e-8."
      ]
    },
    {
      "metadata": {
        "id": "RJDkbeMjxlGU",
        "colab_type": "code",
        "colab": {}
      },
      "cell_type": "code",
      "source": [
        "def sgd_momentum(w, dw, config=None):\n",
        "    \"\"\"\n",
        "    Performs stochastic gradient descent with momentum.\n",
        "\n",
        "    config format:\n",
        "    - learning_rate: Scalar learning rate.\n",
        "    - momentum: Scalar between 0 and 1 giving the momentum value.\n",
        "      Setting momentum = 0 reduces to sgd.\n",
        "    - velocity: A numpy array of the same shape as w and dw used to store a\n",
        "      moving average of the gradients.\n",
        "    \"\"\"\n",
        "    if config is None: config = {}\n",
        "    config.setdefault('learning_rate', 1e-2)\n",
        "    config.setdefault('momentum', 0.9)\n",
        "    v = config.get('velocity', np.zeros_like(w))\n",
        "\n",
        "    next_w = None\n",
        "    ###########################################################################\n",
        "    # TODO: Implement the momentum update formula. Store the updated value in #\n",
        "    # the next_w variable. You should also use and update the velocity v.     #\n",
        "    ###########################################################################\n",
        "    pass\n",
        "    ###########################################################################\n",
        "    #                             END OF YOUR CODE                            #\n",
        "    ###########################################################################\n",
        "    config['velocity'] = v\n",
        "\n",
        "    return next_w, config"
      ],
      "execution_count": 0,
      "outputs": []
    },
    {
      "metadata": {
        "id": "L0dYElzs16tq",
        "colab_type": "code",
        "colab": {}
      },
      "cell_type": "code",
      "source": [
        "N, D = 4, 5\n",
        "w = np.linspace(-0.4, 0.6, num=N*D).reshape(N, D)\n",
        "dw = np.linspace(-0.6, 0.4, num=N*D).reshape(N, D)\n",
        "v = np.linspace(0.6, 0.9, num=N*D).reshape(N, D)\n",
        "\n",
        "config = {'learning_rate': 1e-3, 'velocity': v}\n",
        "next_w, _ = sgd_momentum(w, dw, config=config)\n",
        "\n",
        "expected_next_w = np.asarray([\n",
        "  [ 0.1406,      0.20738947,  0.27417895,  0.34096842,  0.40775789],\n",
        "  [ 0.47454737,  0.54133684,  0.60812632,  0.67491579,  0.74170526],\n",
        "  [ 0.80849474,  0.87528421,  0.94207368,  1.00886316,  1.07565263],\n",
        "  [ 1.14244211,  1.20923158,  1.27602105,  1.34281053,  1.4096    ]])\n",
        "expected_velocity = np.asarray([\n",
        "  [ 0.5406,      0.55475789,  0.56891579, 0.58307368,  0.59723158],\n",
        "  [ 0.61138947,  0.62554737,  0.63970526,  0.65386316,  0.66802105],\n",
        "  [ 0.68217895,  0.69633684,  0.71049474,  0.72465263,  0.73881053],\n",
        "  [ 0.75296842,  0.76712632,  0.78128421,  0.79544211,  0.8096    ]])\n",
        "\n",
        "# Should see relative errors around e-8 or less\n",
        "print('next_w error: ', rel_error(next_w, expected_next_w))\n",
        "print('velocity error: ', rel_error(expected_velocity, config['velocity']))"
      ],
      "execution_count": 0,
      "outputs": []
    },
    {
      "metadata": {
        "id": "ITC3UtDl16tt",
        "colab_type": "text"
      },
      "cell_type": "markdown",
      "source": [
        "Once you have done so, run the following to train a six-layer network with both SGD and SGD+momentum. You should see the SGD+momentum update rule converge faster."
      ]
    },
    {
      "metadata": {
        "id": "heJ5K4kF16tu",
        "colab_type": "code",
        "colab": {}
      },
      "cell_type": "code",
      "source": [
        "num_train = 4000\n",
        "small_data = {\n",
        "  'X_train': data['X_train'][:num_train],\n",
        "  'y_train': data['y_train'][:num_train],\n",
        "  'X_val': data['X_val'],\n",
        "  'y_val': data['y_val'],\n",
        "}\n",
        "\n",
        "solvers = {}\n",
        "\n",
        "for update_rule in ['sgd', 'sgd_momentum']:\n",
        "  print('running with ', update_rule)\n",
        "  model = FullyConnectedNet([100, 100, 100, 100, 100], weight_scale=5e-2)\n",
        "\n",
        "  solver = Solver(model, small_data,\n",
        "                  num_epochs=5, batch_size=100,\n",
        "                  update_rule=update_rule,\n",
        "                  optim_config={\n",
        "                    'learning_rate': 1e-2,\n",
        "                  },\n",
        "                  verbose=True)\n",
        "  solvers[update_rule] = solver\n",
        "  solver.train()\n",
        "  print()\n",
        "\n",
        "plt.subplot(3, 1, 1)\n",
        "plt.title('Training loss')\n",
        "plt.xlabel('Iteration')\n",
        "\n",
        "plt.subplot(3, 1, 2)\n",
        "plt.title('Training accuracy')\n",
        "plt.xlabel('Epoch')\n",
        "\n",
        "plt.subplot(3, 1, 3)\n",
        "plt.title('Validation accuracy')\n",
        "plt.xlabel('Epoch')\n",
        "\n",
        "for update_rule, solver in list(solvers.items()):\n",
        "  plt.subplot(3, 1, 1)\n",
        "  plt.plot(solver.loss_history, 'o', label=update_rule)\n",
        "  \n",
        "  plt.subplot(3, 1, 2)\n",
        "  plt.plot(solver.train_acc_history, '-o', label=update_rule)\n",
        "\n",
        "  plt.subplot(3, 1, 3)\n",
        "  plt.plot(solver.val_acc_history, '-o', label=update_rule)\n",
        "  \n",
        "for i in [1, 2, 3]:\n",
        "  plt.subplot(3, 1, i)\n",
        "  plt.legend(loc='upper center', ncol=4)\n",
        "plt.gcf().set_size_inches(15, 15)\n",
        "plt.show()"
      ],
      "execution_count": 0,
      "outputs": []
    },
    {
      "metadata": {
        "id": "zJyd8bb_16tw",
        "colab_type": "text"
      },
      "cell_type": "markdown",
      "source": [
        "# RMSProp and Adam\n",
        "RMSProp [1] and Adam [2] are update rules that set per-parameter learning rates by using a running average of the second moments of gradients.\n",
        "\n",
        "Implement the RMSProp update rule in the `rmsprop` function and implement the Adam update rule in the `adam` function below, and check your implementations using the tests below.\n",
        "\n",
        "**NOTE:** Please implement the _complete_ Adam update rule (with the bias correction mechanism), not the first simplified version mentioned in the course notes. \n",
        "\n",
        "[1] Tijmen Tieleman and Geoffrey Hinton. \"Lecture 6.5-rmsprop: Divide the gradient by a running average of its recent magnitude.\" COURSERA: Neural Networks for Machine Learning 4 (2012).\n",
        "\n",
        "[2] Diederik Kingma and Jimmy Ba, \"Adam: A Method for Stochastic Optimization\", ICLR 2015."
      ]
    },
    {
      "metadata": {
        "id": "pPeA8Yaexst5",
        "colab_type": "code",
        "colab": {}
      },
      "cell_type": "code",
      "source": [
        "def rmsprop(w, dw, config=None):\n",
        "    \"\"\"\n",
        "    Uses the RMSProp update rule, which uses a moving average of squared\n",
        "    gradient values to set adaptive per-parameter learning rates.\n",
        "\n",
        "    config format:\n",
        "    - learning_rate: Scalar learning rate.\n",
        "    - decay_rate: Scalar between 0 and 1 giving the decay rate for the squared\n",
        "      gradient cache.\n",
        "    - epsilon: Small scalar used for smoothing to avoid dividing by zero.\n",
        "    - cache: Moving average of second moments of gradients.\n",
        "    \"\"\"\n",
        "    if config is None: config = {}\n",
        "    config.setdefault('learning_rate', 1e-2)\n",
        "    config.setdefault('decay_rate', 0.99)\n",
        "    config.setdefault('epsilon', 1e-8)\n",
        "    config.setdefault('cache', np.zeros_like(w))\n",
        "\n",
        "    next_w = None\n",
        "    ###########################################################################\n",
        "    # TODO: Implement the RMSprop update formula, storing the next value of w #\n",
        "    # in the next_w variable. Don't forget to update cache value stored in    #\n",
        "    # config['cache'].                                                        #\n",
        "    ###########################################################################\n",
        "    pass\n",
        "    ###########################################################################\n",
        "    #                             END OF YOUR CODE                            #\n",
        "    ###########################################################################\n",
        "\n",
        "    return next_w, config\n",
        "\n",
        "\n",
        "def adam(w, dw, config=None):\n",
        "    \"\"\"\n",
        "    Uses the Adam update rule, which incorporates moving averages of both the\n",
        "    gradient and its square and a bias correction term.\n",
        "\n",
        "    config format:\n",
        "    - learning_rate: Scalar learning rate.\n",
        "    - beta1: Decay rate for moving average of first moment of gradient.\n",
        "    - beta2: Decay rate for moving average of second moment of gradient.\n",
        "    - epsilon: Small scalar used for smoothing to avoid dividing by zero.\n",
        "    - m: Moving average of gradient.\n",
        "    - v: Moving average of squared gradient.\n",
        "    - t: Iteration number.\n",
        "    \"\"\"\n",
        "    if config is None: config = {}\n",
        "    config.setdefault('learning_rate', 1e-3)\n",
        "    config.setdefault('beta1', 0.9)\n",
        "    config.setdefault('beta2', 0.999)\n",
        "    config.setdefault('epsilon', 1e-8)\n",
        "    config.setdefault('m', np.zeros_like(w))\n",
        "    config.setdefault('v', np.zeros_like(w))\n",
        "    config.setdefault('t', 0)\n",
        "\n",
        "    next_w = None\n",
        "    ###########################################################################\n",
        "    # TODO: Implement the Adam update formula, storing the next value of w in #\n",
        "    # the next_w variable. Don't forget to update the m, v, and t variables   #\n",
        "    # stored in config.                                                       #\n",
        "    #                                                                         #\n",
        "    # NOTE: In order to match the reference output, please modify t _before_  #\n",
        "    # using it in any calculations.                                           #\n",
        "    ###########################################################################\n",
        "    pass\n",
        "    ###########################################################################\n",
        "    #                             END OF YOUR CODE                            #\n",
        "    ###########################################################################\n",
        "\n",
        "    return next_w, config"
      ],
      "execution_count": 0,
      "outputs": []
    },
    {
      "metadata": {
        "id": "kFs5xmCWpXSU",
        "colab_type": "text"
      },
      "cell_type": "markdown",
      "source": [
        "Test your RMSProp implementation."
      ]
    },
    {
      "metadata": {
        "id": "YRAHXafu16tx",
        "colab_type": "code",
        "colab": {}
      },
      "cell_type": "code",
      "source": [
        "N, D = 4, 5\n",
        "w = np.linspace(-0.4, 0.6, num=N*D).reshape(N, D)\n",
        "dw = np.linspace(-0.6, 0.4, num=N*D).reshape(N, D)\n",
        "cache = np.linspace(0.6, 0.9, num=N*D).reshape(N, D)\n",
        "\n",
        "config = {'learning_rate': 1e-2, 'cache': cache}\n",
        "next_w, _ = rmsprop(w, dw, config=config)\n",
        "\n",
        "expected_next_w = np.asarray([\n",
        "  [-0.39223849, -0.34037513, -0.28849239, -0.23659121, -0.18467247],\n",
        "  [-0.132737,   -0.08078555, -0.02881884,  0.02316247,  0.07515774],\n",
        "  [ 0.12716641,  0.17918792,  0.23122175,  0.28326742,  0.33532447],\n",
        "  [ 0.38739248,  0.43947102,  0.49155973,  0.54365823,  0.59576619]])\n",
        "expected_cache = np.asarray([\n",
        "  [ 0.5976,      0.6126277,   0.6277108,   0.64284931,  0.65804321],\n",
        "  [ 0.67329252,  0.68859723,  0.70395734,  0.71937285,  0.73484377],\n",
        "  [ 0.75037008,  0.7659518,   0.78158892,  0.79728144,  0.81302936],\n",
        "  [ 0.82883269,  0.84469141,  0.86060554,  0.87657507,  0.8926    ]])\n",
        "\n",
        "# You should see relative errors around e-7 or less\n",
        "print('next_w error: ', rel_error(expected_next_w, next_w))\n",
        "print('cache error: ', rel_error(expected_cache, config['cache']))"
      ],
      "execution_count": 0,
      "outputs": []
    },
    {
      "metadata": {
        "id": "Gf_U16EVpbhq",
        "colab_type": "text"
      },
      "cell_type": "markdown",
      "source": [
        "Test your Adam implementation."
      ]
    },
    {
      "metadata": {
        "id": "VVK4v9Vy16ty",
        "colab_type": "code",
        "colab": {}
      },
      "cell_type": "code",
      "source": [
        "N, D = 4, 5\n",
        "w = np.linspace(-0.4, 0.6, num=N*D).reshape(N, D)\n",
        "dw = np.linspace(-0.6, 0.4, num=N*D).reshape(N, D)\n",
        "m = np.linspace(0.6, 0.9, num=N*D).reshape(N, D)\n",
        "v = np.linspace(0.7, 0.5, num=N*D).reshape(N, D)\n",
        "\n",
        "config = {'learning_rate': 1e-2, 'm': m, 'v': v, 't': 5}\n",
        "next_w, _ = adam(w, dw, config=config)\n",
        "\n",
        "expected_next_w = np.asarray([\n",
        "  [-0.40094747, -0.34836187, -0.29577703, -0.24319299, -0.19060977],\n",
        "  [-0.1380274,  -0.08544591, -0.03286534,  0.01971428,  0.0722929],\n",
        "  [ 0.1248705,   0.17744702,  0.23002243,  0.28259667,  0.33516969],\n",
        "  [ 0.38774145,  0.44031188,  0.49288093,  0.54544852,  0.59801459]])\n",
        "expected_v = np.asarray([\n",
        "  [ 0.69966,     0.68908382,  0.67851319,  0.66794809,  0.65738853,],\n",
        "  [ 0.64683452,  0.63628604,  0.6257431,   0.61520571,  0.60467385,],\n",
        "  [ 0.59414753,  0.58362676,  0.57311152,  0.56260183,  0.55209767,],\n",
        "  [ 0.54159906,  0.53110598,  0.52061845,  0.51013645,  0.49966,   ]])\n",
        "expected_m = np.asarray([\n",
        "  [ 0.48,        0.49947368,  0.51894737,  0.53842105,  0.55789474],\n",
        "  [ 0.57736842,  0.59684211,  0.61631579,  0.63578947,  0.65526316],\n",
        "  [ 0.67473684,  0.69421053,  0.71368421,  0.73315789,  0.75263158],\n",
        "  [ 0.77210526,  0.79157895,  0.81105263,  0.83052632,  0.85      ]])\n",
        "\n",
        "# You should see relative errors around e-7 or less\n",
        "print('next_w error: ', rel_error(expected_next_w, next_w))\n",
        "print('v error: ', rel_error(expected_v, config['v']))\n",
        "print('m error: ', rel_error(expected_m, config['m']))"
      ],
      "execution_count": 0,
      "outputs": []
    },
    {
      "metadata": {
        "id": "uG-Il8lU16t0",
        "colab_type": "text"
      },
      "cell_type": "markdown",
      "source": [
        "Once you have debugged your RMSProp and Adam implementations, run the following to train a pair of deep networks using these new update rules:"
      ]
    },
    {
      "metadata": {
        "id": "9HBZkVUh16t1",
        "colab_type": "code",
        "colab": {}
      },
      "cell_type": "code",
      "source": [
        "learning_rates = {'rmsprop': 1e-4, 'adam': 1e-3}\n",
        "for update_rule in ['adam', 'rmsprop']:\n",
        "  print('running with ', update_rule)\n",
        "  model = FullyConnectedNet([100, 100, 100, 100, 100], weight_scale=5e-2)\n",
        "\n",
        "  solver = Solver(model, small_data,\n",
        "                  num_epochs=5, batch_size=100,\n",
        "                  update_rule=update_rule,\n",
        "                  optim_config={\n",
        "                    'learning_rate': learning_rates[update_rule]\n",
        "                  },\n",
        "                  verbose=True)\n",
        "  solvers[update_rule] = solver\n",
        "  solver.train()\n",
        "  print()\n",
        "\n",
        "plt.subplot(3, 1, 1)\n",
        "plt.title('Training loss')\n",
        "plt.xlabel('Iteration')\n",
        "\n",
        "plt.subplot(3, 1, 2)\n",
        "plt.title('Training accuracy')\n",
        "plt.xlabel('Epoch')\n",
        "\n",
        "plt.subplot(3, 1, 3)\n",
        "plt.title('Validation accuracy')\n",
        "plt.xlabel('Epoch')\n",
        "\n",
        "for update_rule, solver in list(solvers.items()):\n",
        "  plt.subplot(3, 1, 1)\n",
        "  plt.plot(solver.loss_history, 'o', label=update_rule)\n",
        "  \n",
        "  plt.subplot(3, 1, 2)\n",
        "  plt.plot(solver.train_acc_history, '-o', label=update_rule)\n",
        "\n",
        "  plt.subplot(3, 1, 3)\n",
        "  plt.plot(solver.val_acc_history, '-o', label=update_rule)\n",
        "  \n",
        "for i in [1, 2, 3]:\n",
        "  plt.subplot(3, 1, i)\n",
        "  plt.legend(loc='upper center', ncol=4)\n",
        "plt.gcf().set_size_inches(15, 15)\n",
        "plt.show()"
      ],
      "execution_count": 0,
      "outputs": []
    },
    {
      "metadata": {
        "id": "ovo8_sVn16t3",
        "colab_type": "text"
      },
      "cell_type": "markdown",
      "source": [
        "## Inline Question 3:\n",
        "\n",
        "AdaGrad, like Adam, is a per-parameter optimization method that uses the following update rule:\n",
        "\n",
        "```\n",
        "cache += dw**2\n",
        "w += - learning_rate * dw / (np.sqrt(cache) + eps)\n",
        "```\n",
        "\n",
        "John notices that when he was training a network with AdaGrad that the updates became very small, and that his network was learning slowly. Using your knowledge of the AdaGrad update rule, why do you think the updates would become very small? Would Adam have the same issue?\n"
      ]
    },
    {
      "metadata": {
        "id": "qVZwA8Gr16t4",
        "colab_type": "text"
      },
      "cell_type": "markdown",
      "source": [
        "## Answer: \n",
        "[FILL THIS IN]\n"
      ]
    },
    {
      "metadata": {
        "id": "p6VLB27xbkmM",
        "colab_type": "text"
      },
      "cell_type": "markdown",
      "source": [
        "# Batch Normalization\n",
        "One way to make deep networks easier to train is to use more sophisticated optimization procedures such as SGD+momentum, RMSProp, or Adam. Another strategy is to change the architecture of the network to make it easier to train. \n",
        "One idea along these lines is batch normalization which was proposed by [3] in 2015.\n",
        "\n",
        "The idea is relatively straightforward. Machine learning methods tend to work better when their input data consists of uncorrelated features with zero mean and unit variance. When training a neural network, we can preprocess the data before feeding it to the network to explicitly decorrelate its features; this will ensure that the first layer of the network sees data that follows a nice distribution. However, even if we preprocess the input data, the activations at deeper layers of the network will likely no longer be decorrelated and will no longer have zero mean or unit variance since they are output from earlier layers in the network. Even worse, during the training process the distribution of features at each layer of the network will shift as the weights of each layer are updated.\n",
        "\n",
        "The authors of [3] hypothesize that the shifting distribution of features inside deep neural networks may make training deep networks more difficult. To overcome this problem, [3] proposes to insert batch normalization layers into the network. At training time, a batch normalization layer uses a minibatch of data to estimate the mean and standard deviation of each feature. These estimated means and standard deviations are then used to center and normalize the features of the minibatch. A running average of these means and standard deviations is kept during training, and at test time these running averages are used to center and normalize features.\n",
        "\n",
        "It is possible that this normalization strategy could reduce the representational power of the network, since it may sometimes be optimal for certain layers to have features that are not zero-mean or unit variance. To this end, the batch normalization layer includes learnable shift and scale parameters for each feature dimension.\n",
        "\n",
        "[3] [Sergey Ioffe and Christian Szegedy, \"Batch Normalization: Accelerating Deep Network Training by Reducing\n",
        "Internal Covariate Shift\", ICML 2015.](https://arxiv.org/abs/1502.03167)"
      ]
    },
    {
      "metadata": {
        "id": "5pFp4sZx2v__",
        "colab_type": "text"
      },
      "cell_type": "markdown",
      "source": [
        "## Batch normalization: forward\n",
        "Implement the batch normalization forward pass in the function `batchnorm_forward` below. Once you have done so, run the following to test your implementation.\n",
        "\n",
        "Referencing the paper linked to above would be helpful!"
      ]
    },
    {
      "metadata": {
        "id": "acJZ1kCQcF-H",
        "colab_type": "code",
        "colab": {}
      },
      "cell_type": "code",
      "source": [
        "def batchnorm_forward(x, gamma, beta, bn_param):\n",
        "    \"\"\"\n",
        "    Forward pass for batch normalization.\n",
        "\n",
        "    During training the sample mean and (uncorrected) sample variance are\n",
        "    computed from minibatch statistics and used to normalize the incoming data.\n",
        "    During training we also keep an exponentially decaying running mean of the\n",
        "    mean and variance of each feature, and these averages are used to normalize\n",
        "    data at test-time.\n",
        "\n",
        "    At each timestep we update the running averages for mean and variance using\n",
        "    an exponential decay based on the momentum parameter:\n",
        "\n",
        "    running_mean = momentum * running_mean + (1 - momentum) * sample_mean\n",
        "    running_var = momentum * running_var + (1 - momentum) * sample_var\n",
        "\n",
        "    Note that the batch normalization paper suggests a different test-time\n",
        "    behavior: they compute sample mean and variance for each feature using a\n",
        "    large number of training images rather than using a running average. For\n",
        "    this implementation we have chosen to use running averages instead since\n",
        "    they do not require an additional estimation step; the torch7\n",
        "    implementation of batch normalization also uses running averages.\n",
        "\n",
        "    Input:\n",
        "    - x: Data of shape (N, D)\n",
        "    - gamma: Scale parameter of shape (D,)\n",
        "    - beta: Shift paremeter of shape (D,)\n",
        "    - bn_param: Dictionary with the following keys:\n",
        "      - mode: 'train' or 'test'; required\n",
        "      - eps: Constant for numeric stability\n",
        "      - momentum: Constant for running mean / variance.\n",
        "      - running_mean: Array of shape (D,) giving running mean of features\n",
        "      - running_var Array of shape (D,) giving running variance of features\n",
        "\n",
        "    Returns a tuple of:\n",
        "    - out: of shape (N, D)\n",
        "    - cache: A tuple of values needed in the backward pass\n",
        "    \"\"\"\n",
        "    mode = bn_param['mode']\n",
        "    eps = bn_param.get('eps', 1e-5)\n",
        "    momentum = bn_param.get('momentum', 0.9)\n",
        "\n",
        "    N, D = x.shape\n",
        "    running_mean = bn_param.get('running_mean', np.zeros(D, dtype=x.dtype))\n",
        "    running_var = bn_param.get('running_var', np.zeros(D, dtype=x.dtype))\n",
        "\n",
        "    out, cache = None, None\n",
        "    if mode == 'train':\n",
        "        #######################################################################\n",
        "        # TODO: Implement the training-time forward pass for batch norm.      #\n",
        "        # Use minibatch statistics to compute the mean and variance, use      #\n",
        "        # these statistics to normalize the incoming data, and scale and      #\n",
        "        # shift the normalized data using gamma and beta.                     #\n",
        "        #                                                                     #\n",
        "        # You should store the output in the variable out. Any intermediates  #\n",
        "        # that you need for the backward pass should be stored in the cache   #\n",
        "        # variable.                                                           #\n",
        "        #                                                                     #\n",
        "        # You should also use your computed sample mean and variance together #\n",
        "        # with the momentum variable to update the running mean and running   #\n",
        "        # variance, storing your result in the running_mean and running_var   #\n",
        "        # variables.                                                          #\n",
        "        #                                                                     #\n",
        "        # Note that though you should be keeping track of the running         #\n",
        "        # variance, you should normalize the data based on the standard       #\n",
        "        # deviation (square root of variance) instead!                        # \n",
        "        # Referencing the original paper (https://arxiv.org/abs/1502.03167)   #\n",
        "        # might prove to be helpful.                                          #\n",
        "        #######################################################################\n",
        "        pass\n",
        "        #######################################################################\n",
        "        #                           END OF YOUR CODE                          #\n",
        "        #######################################################################\n",
        "    elif mode == 'test':\n",
        "        #######################################################################\n",
        "        # TODO: Implement the test-time forward pass for batch normalization. #\n",
        "        # Use the running mean and variance to normalize the incoming data,   #\n",
        "        # then scale and shift the normalized data using gamma and beta.      #\n",
        "        # Store the result in the out variable.                               #\n",
        "        #######################################################################\n",
        "        pass\n",
        "        #######################################################################\n",
        "        #                          END OF YOUR CODE                           #\n",
        "        #######################################################################\n",
        "    else:\n",
        "        raise ValueError('Invalid forward batchnorm mode \"%s\"' % mode)\n",
        "\n",
        "    # Store the updated running means back into bn_param\n",
        "    bn_param['running_mean'] = running_mean\n",
        "    bn_param['running_var'] = running_var\n",
        "\n",
        "    return out, cache"
      ],
      "execution_count": 0,
      "outputs": []
    },
    {
      "metadata": {
        "id": "m9fK48-UpwT-",
        "colab_type": "text"
      },
      "cell_type": "markdown",
      "source": [
        "Check the training-time forward pass by checking means and variances of features both before and after batch normalization."
      ]
    },
    {
      "metadata": {
        "id": "8MamMy7u2v__",
        "colab_type": "code",
        "colab": {}
      },
      "cell_type": "code",
      "source": [
        "# Simulate the forward pass for a two-layer network\n",
        "np.random.seed(231)\n",
        "N, D1, D2, D3 = 200, 50, 60, 3\n",
        "X = np.random.randn(N, D1)\n",
        "W1 = np.random.randn(D1, D2)\n",
        "W2 = np.random.randn(D2, D3)\n",
        "a = np.maximum(0, X.dot(W1)).dot(W2)\n",
        "\n",
        "print('Before batch normalization:')\n",
        "print_mean_std(a,axis=0)\n",
        "\n",
        "gamma = np.ones((D3,))\n",
        "beta = np.zeros((D3,))\n",
        "# Means should be close to zero and stds close to one\n",
        "print('After batch normalization (gamma=1, beta=0)')\n",
        "a_norm, _ = batchnorm_forward(a, gamma, beta, {'mode': 'train'})\n",
        "print_mean_std(a_norm,axis=0)\n",
        "\n",
        "gamma = np.asarray([1.0, 2.0, 3.0])\n",
        "beta = np.asarray([11.0, 12.0, 13.0])\n",
        "# Now means should be close to beta and stds close to gamma\n",
        "print('After batch normalization (gamma=', gamma, ', beta=', beta, ')')\n",
        "a_norm, _ = batchnorm_forward(a, gamma, beta, {'mode': 'train'})\n",
        "print_mean_std(a_norm,axis=0)"
      ],
      "execution_count": 0,
      "outputs": []
    },
    {
      "metadata": {
        "id": "q-Srts_Hp08d",
        "colab_type": "text"
      },
      "cell_type": "markdown",
      "source": [
        "Check the test-time forward pass by running the training-time forward pass many times to warm up the running averages, and then checking the means and variances of activations after a test-time forward pass."
      ]
    },
    {
      "metadata": {
        "id": "lof2w2By2wAC",
        "colab_type": "code",
        "colab": {}
      },
      "cell_type": "code",
      "source": [
        "np.random.seed(231)\n",
        "N, D1, D2, D3 = 200, 50, 60, 3\n",
        "W1 = np.random.randn(D1, D2)\n",
        "W2 = np.random.randn(D2, D3)\n",
        "\n",
        "bn_param = {'mode': 'train'}\n",
        "gamma = np.ones(D3)\n",
        "beta = np.zeros(D3)\n",
        "\n",
        "for t in range(50):\n",
        "  X = np.random.randn(N, D1)\n",
        "  a = np.maximum(0, X.dot(W1)).dot(W2)\n",
        "  batchnorm_forward(a, gamma, beta, bn_param)\n",
        "\n",
        "bn_param['mode'] = 'test'\n",
        "X = np.random.randn(N, D1)\n",
        "a = np.maximum(0, X.dot(W1)).dot(W2)\n",
        "a_norm, _ = batchnorm_forward(a, gamma, beta, bn_param)\n",
        "\n",
        "# Means should be close to zero and stds close to one, but will be\n",
        "# noisier than training-time forward passes.\n",
        "print('After batch normalization (test-time):')\n",
        "print_mean_std(a_norm,axis=0)"
      ],
      "execution_count": 0,
      "outputs": []
    },
    {
      "metadata": {
        "id": "QgNH2lwS2wAF",
        "colab_type": "text"
      },
      "cell_type": "markdown",
      "source": [
        "## Batch normalization: backward\n",
        "Now implement the backward pass for batch normalization in the function `batchnorm_backward`.\n",
        "\n",
        "To derive the backward pass you should write out the computation graph for batch normalization and backprop through each of the intermediate nodes. Some intermediates may have multiple outgoing branches; make sure to sum gradients across these branches in the backward pass."
      ]
    },
    {
      "metadata": {
        "id": "bKONZ_8A5kEA",
        "colab_type": "code",
        "colab": {}
      },
      "cell_type": "code",
      "source": [
        "def batchnorm_backward(dout, cache):\n",
        "    \"\"\"\n",
        "    Backward pass for batch normalization.\n",
        "\n",
        "    For this implementation, you should write out a computation graph for\n",
        "    batch normalization on paper and propagate gradients backward through\n",
        "    intermediate nodes.\n",
        "\n",
        "    Inputs:\n",
        "    - dout: Upstream derivatives, of shape (N, D)\n",
        "    - cache: Variable of intermediates from batchnorm_forward.\n",
        "\n",
        "    Returns a tuple of:\n",
        "    - dx: Gradient with respect to inputs x, of shape (N, D)\n",
        "    - dgamma: Gradient with respect to scale parameter gamma, of shape (D,)\n",
        "    - dbeta: Gradient with respect to shift parameter beta, of shape (D,)\n",
        "    \"\"\"\n",
        "    dx, dgamma, dbeta = None, None, None\n",
        "    ###########################################################################\n",
        "    # TODO: Implement the backward pass for batch normalization. Store the    #\n",
        "    # results in the dx, dgamma, and dbeta variables.                         #\n",
        "    # Referencing the original paper (https://arxiv.org/abs/1502.03167)       #\n",
        "    # might prove to be helpful.                                              #\n",
        "    ###########################################################################\n",
        "    pass\n",
        "    ###########################################################################\n",
        "    #                             END OF YOUR CODE                            #\n",
        "    ###########################################################################\n",
        "\n",
        "    return dx, dgamma, dbeta"
      ],
      "execution_count": 0,
      "outputs": []
    },
    {
      "metadata": {
        "id": "TKnps1aDp9GE",
        "colab_type": "text"
      },
      "cell_type": "markdown",
      "source": [
        "Run the following to numerically check your backward pass."
      ]
    },
    {
      "metadata": {
        "id": "rfU8nOuS2wAG",
        "colab_type": "code",
        "colab": {}
      },
      "cell_type": "code",
      "source": [
        "# Gradient check batchnorm backward pass\n",
        "np.random.seed(231)\n",
        "N, D = 4, 5\n",
        "x = 5 * np.random.randn(N, D) + 12\n",
        "gamma = np.random.randn(D)\n",
        "beta = np.random.randn(D)\n",
        "dout = np.random.randn(N, D)\n",
        "\n",
        "bn_param = {'mode': 'train'}\n",
        "fx = lambda x: batchnorm_forward(x, gamma, beta, bn_param)[0]\n",
        "fg = lambda a: batchnorm_forward(x, a, beta, bn_param)[0]\n",
        "fb = lambda b: batchnorm_forward(x, gamma, b, bn_param)[0]\n",
        "\n",
        "dx_num = eval_numerical_gradient_array(fx, x, dout)\n",
        "da_num = eval_numerical_gradient_array(fg, gamma.copy(), dout)\n",
        "db_num = eval_numerical_gradient_array(fb, beta.copy(), dout)\n",
        "\n",
        "_, cache = batchnorm_forward(x, gamma, beta, bn_param)\n",
        "dx, dgamma, dbeta = batchnorm_backward(dout, cache)\n",
        "#You should expect to see relative errors between 1e-13 and 1e-8\n",
        "print('dx error: ', rel_error(dx_num, dx))\n",
        "print('dgamma error: ', rel_error(da_num, dgamma))\n",
        "print('dbeta error: ', rel_error(db_num, dbeta))"
      ],
      "execution_count": 0,
      "outputs": []
    },
    {
      "metadata": {
        "id": "MLb2VztWqeoR",
        "colab_type": "text"
      },
      "cell_type": "markdown",
      "source": [
        "## Batch normalization sandwich layer\n",
        "Let's create some affine-batchnorm-relu sandwich layers."
      ]
    },
    {
      "metadata": {
        "id": "utNTNiEUn1Md",
        "colab_type": "code",
        "colab": {}
      },
      "cell_type": "code",
      "source": [
        "def affine_bn_relu_forward(x, w, b, gamma, beta, bn_param):\n",
        "    \"\"\"\n",
        "    Convenience layer that perorms an affine transform followed by a ReLU\n",
        "\n",
        "    Inputs:\n",
        "    - x: Input to the affine layer\n",
        "    - w, b: Weights for the affine layer\n",
        "\n",
        "    Returns a tuple of:\n",
        "    - out: Output from the ReLU\n",
        "    - cache: Object to give to the backward pass\n",
        "    \"\"\"\n",
        "    a, fc_cache = affine_forward(x, w, b)\n",
        "    bn, bn_cache = batchnorm_forward(a, gamma, beta, bn_param)\n",
        "    out, relu_cache = relu_forward(bn)\n",
        "    cache = (fc_cache, bn_cache, relu_cache)\n",
        "    return out, cache\n",
        "\n",
        "\n",
        "def affine_bn_relu_backward(dout, cache):\n",
        "    \"\"\"\n",
        "    Backward pass for the affine-relu convenience layer\n",
        "    \"\"\"\n",
        "    fc_cache, bn_cache, relu_cache = cache\n",
        "    dbn = relu_backward(dout, relu_cache)\n",
        "    da, dgamma, dbeta = batchnorm_backward(dbn, bn_cache)\n",
        "    dx, dw, db = affine_backward(da, fc_cache)\n",
        "    return dx, dw, db, dgamma, dbeta\n"
      ],
      "execution_count": 0,
      "outputs": []
    },
    {
      "metadata": {
        "id": "g2OMoRxE2wAM",
        "colab_type": "text"
      },
      "cell_type": "markdown",
      "source": [
        "## Fully Connected Nets with Batch Normalization\n",
        "Now that you have a working implementation for batch normalization, go back to your `FullyConnectedNet` and modify your implementation to add batch normalization.\n",
        "\n",
        "Concretely, when the `batchnorm` flag is set to `True` in the constructor, you should insert a batch normalization layer before each ReLU nonlinearity. The outputs from the last layer of the network should not be normalized. Once you are done, run the following to gradient-check your implementation."
      ]
    },
    {
      "metadata": {
        "id": "Yhck9yfZ2wAN",
        "colab_type": "code",
        "colab": {}
      },
      "cell_type": "code",
      "source": [
        "np.random.seed(231)\n",
        "N, D, H1, H2, C = 2, 15, 20, 30, 10\n",
        "X = np.random.randn(N, D)\n",
        "y = np.random.randint(C, size=(N,))\n",
        "\n",
        "# You should expect errors between 1e-4~1e-10 for W, \n",
        "# errors between 1e-08~1e-10 for b,\n",
        "# and errors between 1e-08~1e-09 for beta and gammas.\n",
        "for reg in [0, 3.14]:\n",
        "  print('Running check with reg = ', reg)\n",
        "  model = FullyConnectedNet([H1, H2], input_dim=D, num_classes=C,\n",
        "                            reg=reg, weight_scale=5e-2, dtype=np.float64,\n",
        "                            batchnorm=True)\n",
        "\n",
        "  loss, grads = model.loss(X, y)\n",
        "  print('Initial loss: ', loss)\n",
        "\n",
        "  for name in sorted(grads):\n",
        "    f = lambda _: model.loss(X, y)[0]\n",
        "    grad_num = eval_numerical_gradient(f, model.params[name], verbose=False, h=1e-5)\n",
        "    print('%s relative error: %.2e' % (name, rel_error(grad_num, grads[name])))\n",
        "  if reg == 0: print()"
      ],
      "execution_count": 0,
      "outputs": []
    },
    {
      "metadata": {
        "id": "6dSZVSlj2wAQ",
        "colab_type": "text"
      },
      "cell_type": "markdown",
      "source": [
        "# Batchnorm for deep networks\n",
        "Run the following to train a six-layer network on a subset of 1000 training examples both with and without batch normalization."
      ]
    },
    {
      "metadata": {
        "id": "HSGhoMa72wAR",
        "colab_type": "code",
        "colab": {}
      },
      "cell_type": "code",
      "source": [
        "np.random.seed(231)\n",
        "# Try training a very deep net with batchnorm\n",
        "hidden_dims = [100, 100, 100, 100, 100]\n",
        "\n",
        "num_train = 1000\n",
        "small_data = {\n",
        "  'X_train': data['X_train'][:num_train],\n",
        "  'y_train': data['y_train'][:num_train],\n",
        "  'X_val': data['X_val'],\n",
        "  'y_val': data['y_val'],\n",
        "}\n",
        "\n",
        "weight_scale = 2e-2\n",
        "bn_model = FullyConnectedNet(hidden_dims, weight_scale=weight_scale, batchnorm=True)\n",
        "model = FullyConnectedNet(hidden_dims, weight_scale=weight_scale, batchnorm=False)\n",
        "\n",
        "bn_solver = Solver(bn_model, small_data,\n",
        "                num_epochs=10, batch_size=50,\n",
        "                update_rule='adam',\n",
        "                optim_config={\n",
        "                  'learning_rate': 1e-3,\n",
        "                },\n",
        "                verbose=True,print_every=20)\n",
        "bn_solver.train()\n",
        "\n",
        "solver = Solver(model, small_data,\n",
        "                num_epochs=10, batch_size=50,\n",
        "                update_rule='adam',\n",
        "                optim_config={\n",
        "                  'learning_rate': 1e-3,\n",
        "                },\n",
        "                verbose=True, print_every=20)\n",
        "solver.train()"
      ],
      "execution_count": 0,
      "outputs": []
    },
    {
      "metadata": {
        "id": "NR88JwVw2wAU",
        "colab_type": "text"
      },
      "cell_type": "markdown",
      "source": [
        "Run the following to visualize the results from two networks trained above. You should find that using batch normalization helps the network to converge much faster."
      ]
    },
    {
      "metadata": {
        "id": "iiuj6nQt2wAV",
        "colab_type": "code",
        "colab": {}
      },
      "cell_type": "code",
      "source": [
        "def plot_training_history(title, label, baseline, bn_solvers, plot_fn, bl_marker='.', bn_marker='.', labels=None):\n",
        "    \"\"\"utility function for plotting training history\"\"\"\n",
        "    plt.title(title)\n",
        "    plt.xlabel(label)\n",
        "    bn_plots = [plot_fn(bn_solver) for bn_solver in bn_solvers]\n",
        "    bl_plot = plot_fn(baseline)\n",
        "    num_bn = len(bn_plots)\n",
        "    for i in range(num_bn):\n",
        "        label='with_norm'\n",
        "        if labels is not None:\n",
        "            label += str(labels[i])\n",
        "        plt.plot(bn_plots[i], bn_marker, label=label)\n",
        "    label='baseline'\n",
        "    if labels is not None:\n",
        "        label += str(labels[0])\n",
        "    plt.plot(bl_plot, bl_marker, label=label)\n",
        "    plt.legend(loc='lower center', ncol=num_bn+1) \n",
        "\n",
        "    \n",
        "plt.subplot(3, 1, 1)\n",
        "plot_training_history('Training loss','Iteration', solver, [bn_solver], \\\n",
        "                      lambda x: x.loss_history, bl_marker='o', bn_marker='o')\n",
        "plt.subplot(3, 1, 2)\n",
        "plot_training_history('Training accuracy','Epoch', solver, [bn_solver], \\\n",
        "                      lambda x: x.train_acc_history, bl_marker='-o', bn_marker='-o')\n",
        "plt.subplot(3, 1, 3)\n",
        "plot_training_history('Validation accuracy','Epoch', solver, [bn_solver], \\\n",
        "                      lambda x: x.val_acc_history, bl_marker='-o', bn_marker='-o')\n",
        "\n",
        "plt.gcf().set_size_inches(15, 15)\n",
        "plt.show()"
      ],
      "execution_count": 0,
      "outputs": []
    },
    {
      "metadata": {
        "id": "_5TZ-toa2jW3",
        "colab_type": "text"
      },
      "cell_type": "markdown",
      "source": [
        "# Dropout\n",
        "Dropout [1] is a technique for regularizing neural networks by randomly setting some features to zero during the forward pass.\n",
        "\n",
        "[1] [Geoffrey E. Hinton et al, \"Improving neural networks by preventing co-adaptation of feature detectors\", arXiv 2012](https://arxiv.org/abs/1207.0580)"
      ]
    },
    {
      "metadata": {
        "id": "tRYdxCMT2jXA",
        "colab_type": "text"
      },
      "cell_type": "markdown",
      "source": [
        "# Dropout forward pass\n",
        "Implement the forward pass for dropout below. Since dropout behaves differently during training and testing, make sure to implement the operation for both modes."
      ]
    },
    {
      "metadata": {
        "id": "nGSXUWRWu-hE",
        "colab_type": "code",
        "colab": {}
      },
      "cell_type": "code",
      "source": [
        "def dropout_forward(x, dropout_param):\n",
        "    \"\"\"\n",
        "    Performs the forward pass for (inverted) dropout.\n",
        "\n",
        "    Inputs:\n",
        "    - x: Input data, of any shape\n",
        "    - dropout_param: A dictionary with the following keys:\n",
        "      - p: Dropout parameter. We keep each neuron output with probability p.\n",
        "      - mode: 'test' or 'train'. If the mode is train, then perform dropout;\n",
        "        if the mode is test, then just return the input.\n",
        "      - seed: Seed for the random number generator. Passing seed makes this\n",
        "        function deterministic, which is needed for gradient checking but not\n",
        "        in real networks.\n",
        "\n",
        "    Outputs:\n",
        "    - out: Array of the same shape as x.\n",
        "    - cache: tuple (dropout_param, mask). In training mode, mask is the dropout\n",
        "      mask that was used to multiply the input; in test mode, mask is None.\n",
        "\n",
        "    NOTE: Please implement **inverted** dropout, not the vanilla version of dropout.\n",
        "    See http://cs231n.github.io/neural-networks-2/#reg for more details.\n",
        "\n",
        "    NOTE 2: Keep in mind that p is the probability of **keeping** a neuron\n",
        "    output; this might be contrary to some sources, where it is referred to\n",
        "    as the probability of dropping a neuron output.\n",
        "    \"\"\"\n",
        "    p, mode = dropout_param['p'], dropout_param['mode']\n",
        "    if 'seed' in dropout_param:\n",
        "        np.random.seed(dropout_param['seed'])\n",
        "\n",
        "    mask = None\n",
        "    out = None\n",
        "\n",
        "    if mode == 'train':\n",
        "        #######################################################################\n",
        "        # TODO: Implement training phase forward pass for inverted dropout.   #\n",
        "        # Store the dropout mask in the mask variable.                        #\n",
        "        #######################################################################\n",
        "        pass\n",
        "        #######################################################################\n",
        "        #                           END OF YOUR CODE                          #\n",
        "        #######################################################################\n",
        "    elif mode == 'test':\n",
        "        #######################################################################\n",
        "        # TODO: Implement the test phase forward pass for inverted dropout.   #\n",
        "        #######################################################################\n",
        "        pass\n",
        "        #######################################################################\n",
        "        #                            END OF YOUR CODE                         #\n",
        "        #######################################################################\n",
        "\n",
        "    cache = (dropout_param, mask)\n",
        "    out = out.astype(x.dtype, copy=False)\n",
        "\n",
        "    return out, cache"
      ],
      "execution_count": 0,
      "outputs": []
    },
    {
      "metadata": {
        "id": "X48mrb8yqbyU",
        "colab_type": "text"
      },
      "cell_type": "markdown",
      "source": [
        "Run the cell below to test the forward pass."
      ]
    },
    {
      "metadata": {
        "id": "vW35f0FJ2jXB",
        "colab_type": "code",
        "colab": {}
      },
      "cell_type": "code",
      "source": [
        "np.random.seed(231)\n",
        "x = np.random.randn(500, 500) + 10\n",
        "\n",
        "for p in [0.25, 0.4, 0.7]:\n",
        "  out, _ = dropout_forward(x, {'mode': 'train', 'p': p})\n",
        "  out_test, _ = dropout_forward(x, {'mode': 'test', 'p': p})\n",
        "\n",
        "  print('Running tests with p = ', p)\n",
        "  print('Mean of input: ', x.mean())\n",
        "  print('Mean of train-time output: ', out.mean())\n",
        "  print('Mean of test-time output: ', out_test.mean())\n",
        "  print('Fraction of train-time output set to zero: ', (out == 0).mean())\n",
        "  print('Fraction of test-time output set to zero: ', (out_test == 0).mean())\n",
        "  print()"
      ],
      "execution_count": 0,
      "outputs": []
    },
    {
      "metadata": {
        "id": "3csy0lNH2jXE",
        "colab_type": "text"
      },
      "cell_type": "markdown",
      "source": [
        "# Dropout backward pass\n",
        "Implement the backward pass for dropout below."
      ]
    },
    {
      "metadata": {
        "id": "9EU0sWlgwZSI",
        "colab_type": "code",
        "colab": {}
      },
      "cell_type": "code",
      "source": [
        "def dropout_backward(dout, cache):\n",
        "    \"\"\"\n",
        "    Perform the backward pass for (inverted) dropout.\n",
        "\n",
        "    Inputs:\n",
        "    - dout: Upstream derivatives, of any shape\n",
        "    - cache: (dropout_param, mask) from dropout_forward.\n",
        "    \"\"\"\n",
        "    dropout_param, mask = cache\n",
        "    mode = dropout_param['mode']\n",
        "\n",
        "    dx = None\n",
        "    if mode == 'train':\n",
        "        #######################################################################\n",
        "        # TODO: Implement training phase backward pass for inverted dropout   #\n",
        "        #######################################################################\n",
        "        pass\n",
        "        #######################################################################\n",
        "        #                          END OF YOUR CODE                           #\n",
        "        #######################################################################\n",
        "    elif mode == 'test':\n",
        "        dx = dout\n",
        "    return dx"
      ],
      "execution_count": 0,
      "outputs": []
    },
    {
      "metadata": {
        "id": "0DcQ5QbKqk42",
        "colab_type": "text"
      },
      "cell_type": "markdown",
      "source": [
        "Run the cell below to test the forward pass."
      ]
    },
    {
      "metadata": {
        "id": "H0TysC3M2jXF",
        "colab_type": "code",
        "colab": {}
      },
      "cell_type": "code",
      "source": [
        "np.random.seed(231)\n",
        "x = np.random.randn(10, 10) + 10\n",
        "dout = np.random.randn(*x.shape)\n",
        "\n",
        "dropout_param = {'mode': 'train', 'p': 0.2, 'seed': 123}\n",
        "out, cache = dropout_forward(x, dropout_param)\n",
        "dx = dropout_backward(dout, cache)\n",
        "dx_num = eval_numerical_gradient_array(lambda xx: dropout_forward(xx, dropout_param)[0], x, dout)\n",
        "\n",
        "# Error should be around e-10 or less\n",
        "print('dx relative error: ', rel_error(dx, dx_num))"
      ],
      "execution_count": 0,
      "outputs": []
    },
    {
      "metadata": {
        "id": "TivGFXZG2jXI",
        "colab_type": "text"
      },
      "cell_type": "markdown",
      "source": [
        "## Inline Question 1:\n",
        "What happens if we do not divide the values being passed through inverse dropout by `p` in the dropout layer? Why does that happen?"
      ]
    },
    {
      "metadata": {
        "id": "Tc4IgHef2jXJ",
        "colab_type": "text"
      },
      "cell_type": "markdown",
      "source": [
        "## Answer:\n",
        "[FILL THIS IN]"
      ]
    },
    {
      "metadata": {
        "id": "d2BjfGv_2jXK",
        "colab_type": "text"
      },
      "cell_type": "markdown",
      "source": [
        "# Fully-connected nets with Dropout\n",
        "Modify your implementation of `FullyConnectedNet` above to use dropout. Specifically, if the constructor of the net receives a value that is not 1 for the `dropout` parameter, then the net should add dropout immediately after every ReLU nonlinearity. After doing so, run the following to numerically gradient-check your implementation."
      ]
    },
    {
      "metadata": {
        "id": "b68YxFFp2jXL",
        "colab_type": "code",
        "colab": {}
      },
      "cell_type": "code",
      "source": [
        "np.random.seed(231)\n",
        "N, D, H1, H2, C = 2, 15, 20, 30, 10\n",
        "X = np.random.randn(N, D)\n",
        "y = np.random.randint(C, size=(N,))\n",
        "\n",
        "for dropout in [1, 0.75, 0.5]:\n",
        "  print('Running check with dropout = ', dropout)\n",
        "  model = FullyConnectedNet([H1, H2], input_dim=D, num_classes=C,\n",
        "                            weight_scale=5e-2, dtype=np.float64,\n",
        "                            dropout=dropout, seed=123)\n",
        "\n",
        "  loss, grads = model.loss(X, y)\n",
        "  print('Initial loss: ', loss)\n",
        "  \n",
        "  # Relative errors should be around e-6 or less; Note that it's fine\n",
        "  # if for dropout=1 you have W2 error be on the order of e-5.\n",
        "  for name in sorted(grads):\n",
        "    f = lambda _: model.loss(X, y)[0]\n",
        "    grad_num = eval_numerical_gradient(f, model.params[name], verbose=False, h=1e-5)\n",
        "    print('%s relative error: %.2e' % (name, rel_error(grad_num, grads[name])))\n",
        "  print()"
      ],
      "execution_count": 0,
      "outputs": []
    },
    {
      "metadata": {
        "id": "HSgD_qbK2jXO",
        "colab_type": "text"
      },
      "cell_type": "markdown",
      "source": [
        "# Regularization experiment\n",
        "As an experiment, we will train a pair of two-layer networks on 500 training examples: one will use no dropout, and one will use a keep probability of 0.25. We will then visualize the training and validation accuracies of the two networks over time."
      ]
    },
    {
      "metadata": {
        "id": "-S1z78TY2jXP",
        "colab_type": "code",
        "colab": {}
      },
      "cell_type": "code",
      "source": [
        "# Train two identical nets, one with dropout and one without\n",
        "np.random.seed(231)\n",
        "num_train = 500\n",
        "small_data = {\n",
        "  'X_train': data['X_train'][:num_train],\n",
        "  'y_train': data['y_train'][:num_train],\n",
        "  'X_val': data['X_val'],\n",
        "  'y_val': data['y_val'],\n",
        "}\n",
        "\n",
        "solvers = {}\n",
        "dropout_choices = [1, 0.25]\n",
        "for dropout in dropout_choices:\n",
        "  model = FullyConnectedNet([500], dropout=dropout)\n",
        "  print(dropout)\n",
        "\n",
        "  solver = Solver(model, small_data,\n",
        "                  num_epochs=25, batch_size=100,\n",
        "                  update_rule='adam',\n",
        "                  optim_config={\n",
        "                    'learning_rate': 5e-4,\n",
        "                  },\n",
        "                  verbose=True, print_every=100)\n",
        "  solver.train()\n",
        "  solvers[dropout] = solver"
      ],
      "execution_count": 0,
      "outputs": []
    },
    {
      "metadata": {
        "id": "DvZ7RpkF2jXR",
        "colab_type": "code",
        "colab": {}
      },
      "cell_type": "code",
      "source": [
        "# Plot train and validation accuracies of the two models\n",
        "\n",
        "train_accs = []\n",
        "val_accs = []\n",
        "for dropout in dropout_choices:\n",
        "  solver = solvers[dropout]\n",
        "  train_accs.append(solver.train_acc_history[-1])\n",
        "  val_accs.append(solver.val_acc_history[-1])\n",
        "\n",
        "plt.subplot(3, 1, 1)\n",
        "for dropout in dropout_choices:\n",
        "  plt.plot(solvers[dropout].train_acc_history, 'o', label='%.2f dropout' % dropout)\n",
        "plt.title('Train accuracy')\n",
        "plt.xlabel('Epoch')\n",
        "plt.ylabel('Accuracy')\n",
        "plt.legend(ncol=2, loc='lower right')\n",
        "  \n",
        "plt.subplot(3, 1, 2)\n",
        "for dropout in dropout_choices:\n",
        "  plt.plot(solvers[dropout].val_acc_history, 'o', label='%.2f dropout' % dropout)\n",
        "plt.title('Val accuracy')\n",
        "plt.xlabel('Epoch')\n",
        "plt.ylabel('Accuracy')\n",
        "plt.legend(ncol=2, loc='lower right')\n",
        "\n",
        "plt.gcf().set_size_inches(15, 15)\n",
        "plt.show()"
      ],
      "execution_count": 0,
      "outputs": []
    },
    {
      "metadata": {
        "id": "qXMssToI2jXU",
        "colab_type": "text"
      },
      "cell_type": "markdown",
      "source": [
        "## Inline Question 2:\n",
        "Compare the validation and training accuracies with and without dropout -- what do your results suggest about dropout as a regularizer?"
      ]
    },
    {
      "metadata": {
        "id": "ZdG4QVFr2jXV",
        "colab_type": "text"
      },
      "cell_type": "markdown",
      "source": [
        "## Answer:\n",
        "[FILL THIS IN]"
      ]
    },
    {
      "metadata": {
        "id": "2OvWEUIZ2jXW",
        "colab_type": "text"
      },
      "cell_type": "markdown",
      "source": [
        "## Inline Question 3:\n",
        "Suppose we are training a deep fully-connected network for image classification, with dropout after hidden layers (parameterized by keep probability p). How should we modify p, if at all, if we decide to decrease the size of the hidden layers (that is, the number of nodes in each layer)?"
      ]
    },
    {
      "metadata": {
        "id": "-L_EB3W62jXX",
        "colab_type": "text"
      },
      "cell_type": "markdown",
      "source": [
        "## Answer:\n",
        "[FILL THIS IN]"
      ]
    },
    {
      "metadata": {
        "id": "-T_0EVsV16t5",
        "colab_type": "text"
      },
      "cell_type": "markdown",
      "source": [
        "# Train a good model!\n",
        "Train the best fully-connected model that you can on CIFAR-10, storing your best model in the `best_model` variable. We require you to get at least 50% accuracy on the validation set using a fully-connected net.  If you are careful it should be possible to get accuracies above 55%."
      ]
    },
    {
      "metadata": {
        "id": "CC7MI6I116t5",
        "colab_type": "code",
        "colab": {}
      },
      "cell_type": "code",
      "source": [
        "best_model = None\n",
        "################################################################################\n",
        "# TODO: Train the best FullyConnectedNet that you can on CIFAR-10. You might   #\n",
        "# find batch normalization and dropout useful. Store your best model in  #\n",
        "# the best_model variable.                                                     #\n",
        "################################################################################\n",
        "pass\n",
        "################################################################################\n",
        "#                              END OF YOUR CODE                                #\n",
        "################################################################################"
      ],
      "execution_count": 0,
      "outputs": []
    },
    {
      "metadata": {
        "id": "NyZ8hCwk16t8",
        "colab_type": "text"
      },
      "cell_type": "markdown",
      "source": [
        "# Test your model!\n",
        "Run your best model on the validation and test sets. You should achieve above 50% accuracy on the validation set."
      ]
    },
    {
      "metadata": {
        "id": "Nldb0CIj16t9",
        "colab_type": "code",
        "colab": {}
      },
      "cell_type": "code",
      "source": [
        "y_test_pred = np.argmax(best_model.loss(X_test), axis=1)\n",
        "y_val_pred = np.argmax(best_model.loss(X_val), axis=1)\n",
        "print('Validation set accuracy: ', (y_val_pred == y_val).mean())\n",
        "print('Test set accuracy: ', (y_test_pred == y_test).mean())"
      ],
      "execution_count": 0,
      "outputs": []
    },
    {
      "metadata": {
        "id": "g_mFXaa1B0gV",
        "colab_type": "text"
      },
      "cell_type": "markdown",
      "source": [
        "*Many thanks to Stanford CS231n for permission to use their materials!*"
      ]
    }
  ]
}